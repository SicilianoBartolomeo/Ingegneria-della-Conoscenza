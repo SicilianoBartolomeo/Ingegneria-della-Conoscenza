{
  "cells": [
    {
      "cell_type": "markdown",
      "metadata": {
        "id": "view-in-github",
        "colab_type": "text"
      },
      "source": [
        "<a href=\"https://colab.research.google.com/github/SicilianoBartolomeo/Ingegneria-della-Conoscenza/blob/main/carPricePrediction.ipynb\" target=\"_parent\"><img src=\"https://colab.research.google.com/assets/colab-badge.svg\" alt=\"Open In Colab\"/></a>"
      ]
    },
    {
      "cell_type": "markdown",
      "source": [
        "# IMPORT"
      ],
      "metadata": {
        "id": "YQQOwFgwTABd"
      }
    },
    {
      "cell_type": "code",
      "execution_count": null,
      "metadata": {
        "id": "9VRamCVbgmCZ"
      },
      "outputs": [],
      "source": [
        "import pandas as pd\n",
        "import numpy as np\n",
        "from sklearn.impute import SimpleImputer\n",
        "from sklearn.preprocessing import LabelEncoder\n",
        "from sklearn.preprocessing import StandardScaler\n",
        "from sklearn.preprocessing import power_transform\n",
        "from sklearn.preprocessing import minmax_scale\n",
        "from sklearn.model_selection import train_test_split\n",
        "from sklearn.svm import SVR\n",
        "from sklearn.metrics import mean_squared_error, mean_absolute_error, r2_score\n",
        "from sklearn.linear_model import LinearRegression\n",
        "from sklearn.linear_model import SGDRegressor\n",
        "from sklearn.tree import DecisionTreeRegressor\n",
        "from sklearn.neighbors import KNeighborsRegressor\n",
        "from sklearn.ensemble import RandomForestRegressor\n",
        "from sklearn.model_selection import cross_val_score as cvs\n",
        "from sklearn.model_selection import GridSearchCV\n",
        "import matplotlib.pyplot as plt\n",
        "from prettytable import PrettyTable\n",
        "import seaborn as sns"
      ]
    },
    {
      "cell_type": "code",
      "source": [
        "import tensorflow as tf\n",
        "tf.test.gpu_device_name()"
      ],
      "metadata": {
        "colab": {
          "base_uri": "https://localhost:8080/",
          "height": 36
        },
        "id": "KyWzk0fax6tG",
        "outputId": "fffa0fb2-8fbd-4928-e5f3-7521e49cb1be"
      },
      "execution_count": null,
      "outputs": [
        {
          "output_type": "execute_result",
          "data": {
            "text/plain": [
              "'/device:GPU:0'"
            ],
            "application/vnd.google.colaboratory.intrinsic+json": {
              "type": "string"
            }
          },
          "metadata": {},
          "execution_count": 2
        }
      ]
    },
    {
      "cell_type": "markdown",
      "source": [
        "# **DATA INSPECTION E PREPROCESSING**"
      ],
      "metadata": {
        "id": "bjR8eab2vzzl"
      }
    },
    {
      "cell_type": "markdown",
      "source": [
        "# FIRST DATASET"
      ],
      "metadata": {
        "id": "Pa63AFNcvAio"
      }
    },
    {
      "cell_type": "code",
      "source": [
        "#first dataset\n",
        "df = pd.read_csv('CarPrice.csv')\n",
        "df"
      ],
      "metadata": {
        "colab": {
          "base_uri": "https://localhost:8080/",
          "height": 658
        },
        "id": "aaudvWWtwcmn",
        "outputId": "a8a89987-3ab2-40dc-9c59-eb246fb1ddb0"
      },
      "execution_count": null,
      "outputs": [
        {
          "output_type": "execute_result",
          "data": {
            "text/plain": [
              "                         Brand & Model                         Varient  \\\n",
              "0               Mahindra Xuv500 (2013)                    W8 Dual Tone   \n",
              "1                 Hyundai Creta (2020)  1.6 SX Option Executive Diesel   \n",
              "2                 Hyundai Verna (2019)                     VTVT 1.4 EX   \n",
              "3                 Datsun Redigo (2020)                               D   \n",
              "4                   Hyundai I10 (2011)                Sportz 1.1 iRDE2   \n",
              "...                                ...                             ...   \n",
              "5045          maruti suzuki 800 (1970)                      EX 5 Speed   \n",
              "5046             renault duster (2012)      2012-2015 110PS Diesel RxZ   \n",
              "5047             hyundai santro (2021)                      Sportz AMT   \n",
              "5048              hyundai verna (2013)                     VTVT 1.6 EX   \n",
              "5049  maruti suzuki swift dzire (2019)                             VXI   \n",
              "\n",
              "     Fuel Type Driven Kilometers Transmission      Owner  \\\n",
              "0       DIESEL         58,000 KM       MANUAL  1st Owner   \n",
              "1       DIESEL        43861.0 KM       MANUAL  1st Owner   \n",
              "2       PETROL         17,000 KM       MANUAL  2nd Owner   \n",
              "3       PETROL          10000 KM       MANUAL  1st Owner   \n",
              "4       PETROL          70000 KM       MANUAL  1st Owner   \n",
              "...        ...               ...          ...        ...   \n",
              "5045       LPG        500,000 Km    Automatic  1st Owner   \n",
              "5046    Diesel        111,000 Km       Manual  1st Owner   \n",
              "5047    Petrol          5,500 Km    Automatic  1st Owner   \n",
              "5048    Petrol        61231.0 Km       Manual  1st Owner   \n",
              "5049    Diesel         58,000 Km       Manual  1st Owner   \n",
              "\n",
              "                                   Location Date of Posting Ad  Price (in ₹)  \n",
              "0                          Pitampura, Delhi         01/27/2022        435000  \n",
              "1                        Ahiritola, Kolkata         01/23/2022       1165101  \n",
              "2                 Chelavoor, Pantheeramkavu         01/25/2022        815000  \n",
              "3                              Palam, Delhi         01/13/2022        270000  \n",
              "4                   Dwarka Sector 13, Delhi         01/13/2022        185000  \n",
              "...                                     ...                ...           ...  \n",
              "5045                                 Alipur         01/23/2022         50000  \n",
              "5046  MDDA Colony Near Kedarpuram, Dehradun         01/23/2022        320000  \n",
              "5047               Pragati Nagar, Ahmedabad         01/23/2022        599000  \n",
              "5048                     Malad West, Mumbai         01/27/2022        395000  \n",
              "5049                  Kukatpally, Hyderabad         01/23/2022        580000  \n",
              "\n",
              "[5050 rows x 9 columns]"
            ],
            "text/html": [
              "\n",
              "  <div id=\"df-3f51fe2c-f150-4824-8fd3-8e1bfd6ef0ad\">\n",
              "    <div class=\"colab-df-container\">\n",
              "      <div>\n",
              "<style scoped>\n",
              "    .dataframe tbody tr th:only-of-type {\n",
              "        vertical-align: middle;\n",
              "    }\n",
              "\n",
              "    .dataframe tbody tr th {\n",
              "        vertical-align: top;\n",
              "    }\n",
              "\n",
              "    .dataframe thead th {\n",
              "        text-align: right;\n",
              "    }\n",
              "</style>\n",
              "<table border=\"1\" class=\"dataframe\">\n",
              "  <thead>\n",
              "    <tr style=\"text-align: right;\">\n",
              "      <th></th>\n",
              "      <th>Brand &amp; Model</th>\n",
              "      <th>Varient</th>\n",
              "      <th>Fuel Type</th>\n",
              "      <th>Driven Kilometers</th>\n",
              "      <th>Transmission</th>\n",
              "      <th>Owner</th>\n",
              "      <th>Location</th>\n",
              "      <th>Date of Posting Ad</th>\n",
              "      <th>Price (in ₹)</th>\n",
              "    </tr>\n",
              "  </thead>\n",
              "  <tbody>\n",
              "    <tr>\n",
              "      <th>0</th>\n",
              "      <td>Mahindra Xuv500 (2013)</td>\n",
              "      <td>W8 Dual Tone</td>\n",
              "      <td>DIESEL</td>\n",
              "      <td>58,000 KM</td>\n",
              "      <td>MANUAL</td>\n",
              "      <td>1st Owner</td>\n",
              "      <td>Pitampura, Delhi</td>\n",
              "      <td>01/27/2022</td>\n",
              "      <td>435000</td>\n",
              "    </tr>\n",
              "    <tr>\n",
              "      <th>1</th>\n",
              "      <td>Hyundai Creta (2020)</td>\n",
              "      <td>1.6 SX Option Executive Diesel</td>\n",
              "      <td>DIESEL</td>\n",
              "      <td>43861.0 KM</td>\n",
              "      <td>MANUAL</td>\n",
              "      <td>1st Owner</td>\n",
              "      <td>Ahiritola, Kolkata</td>\n",
              "      <td>01/23/2022</td>\n",
              "      <td>1165101</td>\n",
              "    </tr>\n",
              "    <tr>\n",
              "      <th>2</th>\n",
              "      <td>Hyundai Verna (2019)</td>\n",
              "      <td>VTVT 1.4 EX</td>\n",
              "      <td>PETROL</td>\n",
              "      <td>17,000 KM</td>\n",
              "      <td>MANUAL</td>\n",
              "      <td>2nd Owner</td>\n",
              "      <td>Chelavoor, Pantheeramkavu</td>\n",
              "      <td>01/25/2022</td>\n",
              "      <td>815000</td>\n",
              "    </tr>\n",
              "    <tr>\n",
              "      <th>3</th>\n",
              "      <td>Datsun Redigo (2020)</td>\n",
              "      <td>D</td>\n",
              "      <td>PETROL</td>\n",
              "      <td>10000 KM</td>\n",
              "      <td>MANUAL</td>\n",
              "      <td>1st Owner</td>\n",
              "      <td>Palam, Delhi</td>\n",
              "      <td>01/13/2022</td>\n",
              "      <td>270000</td>\n",
              "    </tr>\n",
              "    <tr>\n",
              "      <th>4</th>\n",
              "      <td>Hyundai I10 (2011)</td>\n",
              "      <td>Sportz 1.1 iRDE2</td>\n",
              "      <td>PETROL</td>\n",
              "      <td>70000 KM</td>\n",
              "      <td>MANUAL</td>\n",
              "      <td>1st Owner</td>\n",
              "      <td>Dwarka Sector 13, Delhi</td>\n",
              "      <td>01/13/2022</td>\n",
              "      <td>185000</td>\n",
              "    </tr>\n",
              "    <tr>\n",
              "      <th>...</th>\n",
              "      <td>...</td>\n",
              "      <td>...</td>\n",
              "      <td>...</td>\n",
              "      <td>...</td>\n",
              "      <td>...</td>\n",
              "      <td>...</td>\n",
              "      <td>...</td>\n",
              "      <td>...</td>\n",
              "      <td>...</td>\n",
              "    </tr>\n",
              "    <tr>\n",
              "      <th>5045</th>\n",
              "      <td>maruti suzuki 800 (1970)</td>\n",
              "      <td>EX 5 Speed</td>\n",
              "      <td>LPG</td>\n",
              "      <td>500,000 Km</td>\n",
              "      <td>Automatic</td>\n",
              "      <td>1st Owner</td>\n",
              "      <td>Alipur</td>\n",
              "      <td>01/23/2022</td>\n",
              "      <td>50000</td>\n",
              "    </tr>\n",
              "    <tr>\n",
              "      <th>5046</th>\n",
              "      <td>renault duster (2012)</td>\n",
              "      <td>2012-2015 110PS Diesel RxZ</td>\n",
              "      <td>Diesel</td>\n",
              "      <td>111,000 Km</td>\n",
              "      <td>Manual</td>\n",
              "      <td>1st Owner</td>\n",
              "      <td>MDDA Colony Near Kedarpuram, Dehradun</td>\n",
              "      <td>01/23/2022</td>\n",
              "      <td>320000</td>\n",
              "    </tr>\n",
              "    <tr>\n",
              "      <th>5047</th>\n",
              "      <td>hyundai santro (2021)</td>\n",
              "      <td>Sportz AMT</td>\n",
              "      <td>Petrol</td>\n",
              "      <td>5,500 Km</td>\n",
              "      <td>Automatic</td>\n",
              "      <td>1st Owner</td>\n",
              "      <td>Pragati Nagar, Ahmedabad</td>\n",
              "      <td>01/23/2022</td>\n",
              "      <td>599000</td>\n",
              "    </tr>\n",
              "    <tr>\n",
              "      <th>5048</th>\n",
              "      <td>hyundai verna (2013)</td>\n",
              "      <td>VTVT 1.6 EX</td>\n",
              "      <td>Petrol</td>\n",
              "      <td>61231.0 Km</td>\n",
              "      <td>Manual</td>\n",
              "      <td>1st Owner</td>\n",
              "      <td>Malad West, Mumbai</td>\n",
              "      <td>01/27/2022</td>\n",
              "      <td>395000</td>\n",
              "    </tr>\n",
              "    <tr>\n",
              "      <th>5049</th>\n",
              "      <td>maruti suzuki swift dzire (2019)</td>\n",
              "      <td>VXI</td>\n",
              "      <td>Diesel</td>\n",
              "      <td>58,000 Km</td>\n",
              "      <td>Manual</td>\n",
              "      <td>1st Owner</td>\n",
              "      <td>Kukatpally, Hyderabad</td>\n",
              "      <td>01/23/2022</td>\n",
              "      <td>580000</td>\n",
              "    </tr>\n",
              "  </tbody>\n",
              "</table>\n",
              "<p>5050 rows × 9 columns</p>\n",
              "</div>\n",
              "      <button class=\"colab-df-convert\" onclick=\"convertToInteractive('df-3f51fe2c-f150-4824-8fd3-8e1bfd6ef0ad')\"\n",
              "              title=\"Convert this dataframe to an interactive table.\"\n",
              "              style=\"display:none;\">\n",
              "        \n",
              "  <svg xmlns=\"http://www.w3.org/2000/svg\" height=\"24px\"viewBox=\"0 0 24 24\"\n",
              "       width=\"24px\">\n",
              "    <path d=\"M0 0h24v24H0V0z\" fill=\"none\"/>\n",
              "    <path d=\"M18.56 5.44l.94 2.06.94-2.06 2.06-.94-2.06-.94-.94-2.06-.94 2.06-2.06.94zm-11 1L8.5 8.5l.94-2.06 2.06-.94-2.06-.94L8.5 2.5l-.94 2.06-2.06.94zm10 10l.94 2.06.94-2.06 2.06-.94-2.06-.94-.94-2.06-.94 2.06-2.06.94z\"/><path d=\"M17.41 7.96l-1.37-1.37c-.4-.4-.92-.59-1.43-.59-.52 0-1.04.2-1.43.59L10.3 9.45l-7.72 7.72c-.78.78-.78 2.05 0 2.83L4 21.41c.39.39.9.59 1.41.59.51 0 1.02-.2 1.41-.59l7.78-7.78 2.81-2.81c.8-.78.8-2.07 0-2.86zM5.41 20L4 18.59l7.72-7.72 1.47 1.35L5.41 20z\"/>\n",
              "  </svg>\n",
              "      </button>\n",
              "      \n",
              "  <style>\n",
              "    .colab-df-container {\n",
              "      display:flex;\n",
              "      flex-wrap:wrap;\n",
              "      gap: 12px;\n",
              "    }\n",
              "\n",
              "    .colab-df-convert {\n",
              "      background-color: #E8F0FE;\n",
              "      border: none;\n",
              "      border-radius: 50%;\n",
              "      cursor: pointer;\n",
              "      display: none;\n",
              "      fill: #1967D2;\n",
              "      height: 32px;\n",
              "      padding: 0 0 0 0;\n",
              "      width: 32px;\n",
              "    }\n",
              "\n",
              "    .colab-df-convert:hover {\n",
              "      background-color: #E2EBFA;\n",
              "      box-shadow: 0px 1px 2px rgba(60, 64, 67, 0.3), 0px 1px 3px 1px rgba(60, 64, 67, 0.15);\n",
              "      fill: #174EA6;\n",
              "    }\n",
              "\n",
              "    [theme=dark] .colab-df-convert {\n",
              "      background-color: #3B4455;\n",
              "      fill: #D2E3FC;\n",
              "    }\n",
              "\n",
              "    [theme=dark] .colab-df-convert:hover {\n",
              "      background-color: #434B5C;\n",
              "      box-shadow: 0px 1px 3px 1px rgba(0, 0, 0, 0.15);\n",
              "      filter: drop-shadow(0px 1px 2px rgba(0, 0, 0, 0.3));\n",
              "      fill: #FFFFFF;\n",
              "    }\n",
              "  </style>\n",
              "\n",
              "      <script>\n",
              "        const buttonEl =\n",
              "          document.querySelector('#df-3f51fe2c-f150-4824-8fd3-8e1bfd6ef0ad button.colab-df-convert');\n",
              "        buttonEl.style.display =\n",
              "          google.colab.kernel.accessAllowed ? 'block' : 'none';\n",
              "\n",
              "        async function convertToInteractive(key) {\n",
              "          const element = document.querySelector('#df-3f51fe2c-f150-4824-8fd3-8e1bfd6ef0ad');\n",
              "          const dataTable =\n",
              "            await google.colab.kernel.invokeFunction('convertToInteractive',\n",
              "                                                     [key], {});\n",
              "          if (!dataTable) return;\n",
              "\n",
              "          const docLinkHtml = 'Like what you see? Visit the ' +\n",
              "            '<a target=\"_blank\" href=https://colab.research.google.com/notebooks/data_table.ipynb>data table notebook</a>'\n",
              "            + ' to learn more about interactive tables.';\n",
              "          element.innerHTML = '';\n",
              "          dataTable['output_type'] = 'display_data';\n",
              "          await google.colab.output.renderOutput(dataTable, element);\n",
              "          const docLink = document.createElement('div');\n",
              "          docLink.innerHTML = docLinkHtml;\n",
              "          element.appendChild(docLink);\n",
              "        }\n",
              "      </script>\n",
              "    </div>\n",
              "  </div>\n",
              "  "
            ]
          },
          "metadata": {},
          "execution_count": 3
        }
      ]
    },
    {
      "cell_type": "code",
      "source": [
        "print(\"Dataset dimension (row, coloumn):\")\n",
        "df.shape"
      ],
      "metadata": {
        "colab": {
          "base_uri": "https://localhost:8080/"
        },
        "id": "inh9DYxozTFb",
        "outputId": "21075f7f-bb6c-4a93-93ad-fb9bcdacae28"
      },
      "execution_count": null,
      "outputs": [
        {
          "output_type": "stream",
          "name": "stdout",
          "text": [
            "Dataset dimension (row, coloumn):\n"
          ]
        },
        {
          "output_type": "execute_result",
          "data": {
            "text/plain": [
              "(5050, 9)"
            ]
          },
          "metadata": {},
          "execution_count": 4
        }
      ]
    },
    {
      "cell_type": "code",
      "source": [
        "df.info()"
      ],
      "metadata": {
        "colab": {
          "base_uri": "https://localhost:8080/"
        },
        "id": "SP_Ltms7zjq4",
        "outputId": "bab8ba8a-9690-452c-8359-ab4ab8498a19"
      },
      "execution_count": null,
      "outputs": [
        {
          "output_type": "stream",
          "name": "stdout",
          "text": [
            "<class 'pandas.core.frame.DataFrame'>\n",
            "RangeIndex: 5050 entries, 0 to 5049\n",
            "Data columns (total 9 columns):\n",
            " #   Column              Non-Null Count  Dtype \n",
            "---  ------              --------------  ----- \n",
            " 0   Brand & Model       5050 non-null   object\n",
            " 1   Varient             5011 non-null   object\n",
            " 2   Fuel Type           5050 non-null   object\n",
            " 3   Driven Kilometers   5050 non-null   object\n",
            " 4   Transmission        5050 non-null   object\n",
            " 5   Owner               5050 non-null   object\n",
            " 6   Location            5050 non-null   object\n",
            " 7   Date of Posting Ad  5050 non-null   object\n",
            " 8   Price (in ₹)        5050 non-null   int64 \n",
            "dtypes: int64(1), object(8)\n",
            "memory usage: 355.2+ KB\n"
          ]
        }
      ]
    },
    {
      "cell_type": "code",
      "source": [
        "print(df.isnull().sum())\n",
        "print(\"\\nUna piccola percentuale dei valori Varient sono nulli\")\n",
        "print(\"devono essere trattati correttamente\\n\")"
      ],
      "metadata": {
        "colab": {
          "base_uri": "https://localhost:8080/"
        },
        "id": "K6T4NfZtzrwH",
        "outputId": "092d3ea5-58f4-484a-fa77-7b9f515b33ae"
      },
      "execution_count": null,
      "outputs": [
        {
          "output_type": "stream",
          "name": "stdout",
          "text": [
            "Brand & Model          0\n",
            "Varient               39\n",
            "Fuel Type              0\n",
            "Driven Kilometers      0\n",
            "Transmission           0\n",
            "Owner                  0\n",
            "Location               0\n",
            "Date of Posting Ad     0\n",
            "Price (in ₹)           0\n",
            "dtype: int64\n",
            "\n",
            "Una piccola percentuale dei valori Varient sono nulli\n",
            "devono essere trattati correttamente\n",
            "\n"
          ]
        }
      ]
    },
    {
      "cell_type": "code",
      "source": [
        "imp=SimpleImputer(missing_values=np.nan,strategy='most_frequent')\n",
        "df['Varient']=imp.fit_transform(df['Varient'].values.reshape(-1,1))\n",
        "print(\"After handling nulls:\")\n",
        "print(df.isnull().sum())"
      ],
      "metadata": {
        "colab": {
          "base_uri": "https://localhost:8080/"
        },
        "id": "hpjL_oPYyqyj",
        "outputId": "8fc44b15-6089-4d35-8d26-bc1b38b906fa"
      },
      "execution_count": null,
      "outputs": [
        {
          "output_type": "stream",
          "name": "stdout",
          "text": [
            "After handling nulls:\n",
            "Brand & Model         0\n",
            "Varient               0\n",
            "Fuel Type             0\n",
            "Driven Kilometers     0\n",
            "Transmission          0\n",
            "Owner                 0\n",
            "Location              0\n",
            "Date of Posting Ad    0\n",
            "Price (in ₹)          0\n",
            "dtype: int64\n"
          ]
        }
      ]
    },
    {
      "cell_type": "code",
      "source": [
        "'''\n",
        "#conversion from indian rupee to euro\n",
        "conversion = []\n",
        "for x in df['Price (in ₹)']:\n",
        "    x = x * 0.0123747126436782\n",
        "    conversion.append(x)\n",
        "df['Price (in ₹)'] = conversion\n",
        "'''\n",
        "\n",
        "print(\"\\nTransformation of data from object type to ordinal type:\\n\")\n",
        "le = LabelEncoder()\n",
        "for column in df.drop(['Price (in ₹)'],axis=1).columns:\n",
        "    df[column]=le.fit_transform(df[column])\n",
        "df"
      ],
      "metadata": {
        "colab": {
          "base_uri": "https://localhost:8080/",
          "height": 476
        },
        "id": "R7cgEEY70bKG",
        "outputId": "a4d0b06f-813d-49ae-a882-479592d4f85a"
      },
      "execution_count": null,
      "outputs": [
        {
          "output_type": "stream",
          "name": "stdout",
          "text": [
            "\n",
            "Transformation of data from object type to ordinal type:\n",
            "\n"
          ]
        },
        {
          "output_type": "execute_result",
          "data": {
            "text/plain": [
              "      Brand & Model  Varient  Fuel Type  Driven Kilometers  Transmission  \\\n",
              "0               266      143          3                543            10   \n",
              "1               243       22          3                419            10   \n",
              "2               255      130          6                159            10   \n",
              "3               226       79          6                 80            10   \n",
              "4               246      121          6                656            10   \n",
              "...             ...      ...        ...                ...           ...   \n",
              "5045            358       87          5                484             6   \n",
              "5046            375       56          4                 97            12   \n",
              "5047            351      122          7                472             6   \n",
              "5048            353      131          7                586            12   \n",
              "5049            369      133          4                544            12   \n",
              "\n",
              "      Owner  Location  Date of Posting Ad  Price (in ₹)  \n",
              "0         1       123                  31        435000  \n",
              "1         1         2                  28       1165101  \n",
              "2         2        33                  30        815000  \n",
              "3         1       115                  20        270000  \n",
              "4         1        42                  20        185000  \n",
              "...     ...       ...                 ...           ...  \n",
              "5045      1         6                  28         50000  \n",
              "5046      1        81                  28        320000  \n",
              "5047      1       126                  28        599000  \n",
              "5048      1        87                  31        395000  \n",
              "5049      1        78                  28        580000  \n",
              "\n",
              "[5050 rows x 9 columns]"
            ],
            "text/html": [
              "\n",
              "  <div id=\"df-9c52dd33-5ab1-4c00-822d-41dfb86b9ec0\">\n",
              "    <div class=\"colab-df-container\">\n",
              "      <div>\n",
              "<style scoped>\n",
              "    .dataframe tbody tr th:only-of-type {\n",
              "        vertical-align: middle;\n",
              "    }\n",
              "\n",
              "    .dataframe tbody tr th {\n",
              "        vertical-align: top;\n",
              "    }\n",
              "\n",
              "    .dataframe thead th {\n",
              "        text-align: right;\n",
              "    }\n",
              "</style>\n",
              "<table border=\"1\" class=\"dataframe\">\n",
              "  <thead>\n",
              "    <tr style=\"text-align: right;\">\n",
              "      <th></th>\n",
              "      <th>Brand &amp; Model</th>\n",
              "      <th>Varient</th>\n",
              "      <th>Fuel Type</th>\n",
              "      <th>Driven Kilometers</th>\n",
              "      <th>Transmission</th>\n",
              "      <th>Owner</th>\n",
              "      <th>Location</th>\n",
              "      <th>Date of Posting Ad</th>\n",
              "      <th>Price (in ₹)</th>\n",
              "    </tr>\n",
              "  </thead>\n",
              "  <tbody>\n",
              "    <tr>\n",
              "      <th>0</th>\n",
              "      <td>266</td>\n",
              "      <td>143</td>\n",
              "      <td>3</td>\n",
              "      <td>543</td>\n",
              "      <td>10</td>\n",
              "      <td>1</td>\n",
              "      <td>123</td>\n",
              "      <td>31</td>\n",
              "      <td>435000</td>\n",
              "    </tr>\n",
              "    <tr>\n",
              "      <th>1</th>\n",
              "      <td>243</td>\n",
              "      <td>22</td>\n",
              "      <td>3</td>\n",
              "      <td>419</td>\n",
              "      <td>10</td>\n",
              "      <td>1</td>\n",
              "      <td>2</td>\n",
              "      <td>28</td>\n",
              "      <td>1165101</td>\n",
              "    </tr>\n",
              "    <tr>\n",
              "      <th>2</th>\n",
              "      <td>255</td>\n",
              "      <td>130</td>\n",
              "      <td>6</td>\n",
              "      <td>159</td>\n",
              "      <td>10</td>\n",
              "      <td>2</td>\n",
              "      <td>33</td>\n",
              "      <td>30</td>\n",
              "      <td>815000</td>\n",
              "    </tr>\n",
              "    <tr>\n",
              "      <th>3</th>\n",
              "      <td>226</td>\n",
              "      <td>79</td>\n",
              "      <td>6</td>\n",
              "      <td>80</td>\n",
              "      <td>10</td>\n",
              "      <td>1</td>\n",
              "      <td>115</td>\n",
              "      <td>20</td>\n",
              "      <td>270000</td>\n",
              "    </tr>\n",
              "    <tr>\n",
              "      <th>4</th>\n",
              "      <td>246</td>\n",
              "      <td>121</td>\n",
              "      <td>6</td>\n",
              "      <td>656</td>\n",
              "      <td>10</td>\n",
              "      <td>1</td>\n",
              "      <td>42</td>\n",
              "      <td>20</td>\n",
              "      <td>185000</td>\n",
              "    </tr>\n",
              "    <tr>\n",
              "      <th>...</th>\n",
              "      <td>...</td>\n",
              "      <td>...</td>\n",
              "      <td>...</td>\n",
              "      <td>...</td>\n",
              "      <td>...</td>\n",
              "      <td>...</td>\n",
              "      <td>...</td>\n",
              "      <td>...</td>\n",
              "      <td>...</td>\n",
              "    </tr>\n",
              "    <tr>\n",
              "      <th>5045</th>\n",
              "      <td>358</td>\n",
              "      <td>87</td>\n",
              "      <td>5</td>\n",
              "      <td>484</td>\n",
              "      <td>6</td>\n",
              "      <td>1</td>\n",
              "      <td>6</td>\n",
              "      <td>28</td>\n",
              "      <td>50000</td>\n",
              "    </tr>\n",
              "    <tr>\n",
              "      <th>5046</th>\n",
              "      <td>375</td>\n",
              "      <td>56</td>\n",
              "      <td>4</td>\n",
              "      <td>97</td>\n",
              "      <td>12</td>\n",
              "      <td>1</td>\n",
              "      <td>81</td>\n",
              "      <td>28</td>\n",
              "      <td>320000</td>\n",
              "    </tr>\n",
              "    <tr>\n",
              "      <th>5047</th>\n",
              "      <td>351</td>\n",
              "      <td>122</td>\n",
              "      <td>7</td>\n",
              "      <td>472</td>\n",
              "      <td>6</td>\n",
              "      <td>1</td>\n",
              "      <td>126</td>\n",
              "      <td>28</td>\n",
              "      <td>599000</td>\n",
              "    </tr>\n",
              "    <tr>\n",
              "      <th>5048</th>\n",
              "      <td>353</td>\n",
              "      <td>131</td>\n",
              "      <td>7</td>\n",
              "      <td>586</td>\n",
              "      <td>12</td>\n",
              "      <td>1</td>\n",
              "      <td>87</td>\n",
              "      <td>31</td>\n",
              "      <td>395000</td>\n",
              "    </tr>\n",
              "    <tr>\n",
              "      <th>5049</th>\n",
              "      <td>369</td>\n",
              "      <td>133</td>\n",
              "      <td>4</td>\n",
              "      <td>544</td>\n",
              "      <td>12</td>\n",
              "      <td>1</td>\n",
              "      <td>78</td>\n",
              "      <td>28</td>\n",
              "      <td>580000</td>\n",
              "    </tr>\n",
              "  </tbody>\n",
              "</table>\n",
              "<p>5050 rows × 9 columns</p>\n",
              "</div>\n",
              "      <button class=\"colab-df-convert\" onclick=\"convertToInteractive('df-9c52dd33-5ab1-4c00-822d-41dfb86b9ec0')\"\n",
              "              title=\"Convert this dataframe to an interactive table.\"\n",
              "              style=\"display:none;\">\n",
              "        \n",
              "  <svg xmlns=\"http://www.w3.org/2000/svg\" height=\"24px\"viewBox=\"0 0 24 24\"\n",
              "       width=\"24px\">\n",
              "    <path d=\"M0 0h24v24H0V0z\" fill=\"none\"/>\n",
              "    <path d=\"M18.56 5.44l.94 2.06.94-2.06 2.06-.94-2.06-.94-.94-2.06-.94 2.06-2.06.94zm-11 1L8.5 8.5l.94-2.06 2.06-.94-2.06-.94L8.5 2.5l-.94 2.06-2.06.94zm10 10l.94 2.06.94-2.06 2.06-.94-2.06-.94-.94-2.06-.94 2.06-2.06.94z\"/><path d=\"M17.41 7.96l-1.37-1.37c-.4-.4-.92-.59-1.43-.59-.52 0-1.04.2-1.43.59L10.3 9.45l-7.72 7.72c-.78.78-.78 2.05 0 2.83L4 21.41c.39.39.9.59 1.41.59.51 0 1.02-.2 1.41-.59l7.78-7.78 2.81-2.81c.8-.78.8-2.07 0-2.86zM5.41 20L4 18.59l7.72-7.72 1.47 1.35L5.41 20z\"/>\n",
              "  </svg>\n",
              "      </button>\n",
              "      \n",
              "  <style>\n",
              "    .colab-df-container {\n",
              "      display:flex;\n",
              "      flex-wrap:wrap;\n",
              "      gap: 12px;\n",
              "    }\n",
              "\n",
              "    .colab-df-convert {\n",
              "      background-color: #E8F0FE;\n",
              "      border: none;\n",
              "      border-radius: 50%;\n",
              "      cursor: pointer;\n",
              "      display: none;\n",
              "      fill: #1967D2;\n",
              "      height: 32px;\n",
              "      padding: 0 0 0 0;\n",
              "      width: 32px;\n",
              "    }\n",
              "\n",
              "    .colab-df-convert:hover {\n",
              "      background-color: #E2EBFA;\n",
              "      box-shadow: 0px 1px 2px rgba(60, 64, 67, 0.3), 0px 1px 3px 1px rgba(60, 64, 67, 0.15);\n",
              "      fill: #174EA6;\n",
              "    }\n",
              "\n",
              "    [theme=dark] .colab-df-convert {\n",
              "      background-color: #3B4455;\n",
              "      fill: #D2E3FC;\n",
              "    }\n",
              "\n",
              "    [theme=dark] .colab-df-convert:hover {\n",
              "      background-color: #434B5C;\n",
              "      box-shadow: 0px 1px 3px 1px rgba(0, 0, 0, 0.15);\n",
              "      filter: drop-shadow(0px 1px 2px rgba(0, 0, 0, 0.3));\n",
              "      fill: #FFFFFF;\n",
              "    }\n",
              "  </style>\n",
              "\n",
              "      <script>\n",
              "        const buttonEl =\n",
              "          document.querySelector('#df-9c52dd33-5ab1-4c00-822d-41dfb86b9ec0 button.colab-df-convert');\n",
              "        buttonEl.style.display =\n",
              "          google.colab.kernel.accessAllowed ? 'block' : 'none';\n",
              "\n",
              "        async function convertToInteractive(key) {\n",
              "          const element = document.querySelector('#df-9c52dd33-5ab1-4c00-822d-41dfb86b9ec0');\n",
              "          const dataTable =\n",
              "            await google.colab.kernel.invokeFunction('convertToInteractive',\n",
              "                                                     [key], {});\n",
              "          if (!dataTable) return;\n",
              "\n",
              "          const docLinkHtml = 'Like what you see? Visit the ' +\n",
              "            '<a target=\"_blank\" href=https://colab.research.google.com/notebooks/data_table.ipynb>data table notebook</a>'\n",
              "            + ' to learn more about interactive tables.';\n",
              "          element.innerHTML = '';\n",
              "          dataTable['output_type'] = 'display_data';\n",
              "          await google.colab.output.renderOutput(dataTable, element);\n",
              "          const docLink = document.createElement('div');\n",
              "          docLink.innerHTML = docLinkHtml;\n",
              "          element.appendChild(docLink);\n",
              "        }\n",
              "      </script>\n",
              "    </div>\n",
              "  </div>\n",
              "  "
            ]
          },
          "metadata": {},
          "execution_count": 8
        }
      ]
    },
    {
      "cell_type": "code",
      "source": [
        "#split 1st dataset\n",
        "x1= df.drop(['Price (in ₹)'],axis=1)\n",
        "y1=df['Price (in ₹)']\n",
        "\n",
        "x1=power_transform(x1,method='yeo-johnson')\n",
        "scale = StandardScaler()\n",
        "x1=scale.fit_transform(x1)\n",
        "\n",
        "x1train, x1test, y1train, y1test = train_test_split(x1, y1, test_size = 0.3, random_state = 45)"
      ],
      "metadata": {
        "id": "T8vqyhhi1AEv"
      },
      "execution_count": null,
      "outputs": []
    },
    {
      "cell_type": "markdown",
      "source": [
        "# SECOND DATASET"
      ],
      "metadata": {
        "id": "fkyqah0gMUW4"
      }
    },
    {
      "cell_type": "markdown",
      "source": [
        "**Load 2nd dataset from kaggle**"
      ],
      "metadata": {
        "id": "tIjoeEmyqc8Q"
      }
    },
    {
      "cell_type": "code",
      "source": [
        "! pip install kaggle\n",
        "! mkdir ~/.kaggle\n",
        "! cp kaggle.json ~/.kaggle/\n",
        "! chmod 600 ~/.kaggle/kaggle.json"
      ],
      "metadata": {
        "colab": {
          "base_uri": "https://localhost:8080/"
        },
        "id": "gUMbaJKaql7k",
        "outputId": "07130bd6-e84e-40f9-d81a-ba77da320c11"
      },
      "execution_count": null,
      "outputs": [
        {
          "output_type": "stream",
          "name": "stdout",
          "text": [
            "Looking in indexes: https://pypi.org/simple, https://us-python.pkg.dev/colab-wheels/public/simple/\n",
            "Requirement already satisfied: kaggle in /usr/local/lib/python3.7/dist-packages (1.5.12)\n",
            "Requirement already satisfied: python-dateutil in /usr/local/lib/python3.7/dist-packages (from kaggle) (2.8.2)\n",
            "Requirement already satisfied: requests in /usr/local/lib/python3.7/dist-packages (from kaggle) (2.23.0)\n",
            "Requirement already satisfied: urllib3 in /usr/local/lib/python3.7/dist-packages (from kaggle) (1.24.3)\n",
            "Requirement already satisfied: six>=1.10 in /usr/local/lib/python3.7/dist-packages (from kaggle) (1.15.0)\n",
            "Requirement already satisfied: python-slugify in /usr/local/lib/python3.7/dist-packages (from kaggle) (6.1.2)\n",
            "Requirement already satisfied: certifi in /usr/local/lib/python3.7/dist-packages (from kaggle) (2022.6.15)\n",
            "Requirement already satisfied: tqdm in /usr/local/lib/python3.7/dist-packages (from kaggle) (4.64.1)\n",
            "Requirement already satisfied: text-unidecode>=1.3 in /usr/local/lib/python3.7/dist-packages (from python-slugify->kaggle) (1.3)\n",
            "Requirement already satisfied: chardet<4,>=3.0.2 in /usr/local/lib/python3.7/dist-packages (from requests->kaggle) (3.0.4)\n",
            "Requirement already satisfied: idna<3,>=2.5 in /usr/local/lib/python3.7/dist-packages (from requests->kaggle) (2.10)\n"
          ]
        }
      ]
    },
    {
      "cell_type": "code",
      "source": [
        "! kaggle datasets download austinreese/craigslist-carstrucks-data -f vehicles.csv\n",
        "! unzip vehicles.csv.zip"
      ],
      "metadata": {
        "colab": {
          "base_uri": "https://localhost:8080/"
        },
        "id": "gCfD9dhfr_xB",
        "outputId": "15de4095-5358-4101-901f-8a0ae9db7f71"
      },
      "execution_count": null,
      "outputs": [
        {
          "output_type": "stream",
          "name": "stdout",
          "text": [
            "Downloading vehicles.csv.zip to /content\n",
            " 98% 257M/262M [00:07<00:00, 35.9MB/s]\n",
            "100% 262M/262M [00:07<00:00, 35.6MB/s]\n",
            "Archive:  vehicles.csv.zip\n",
            "  inflating: vehicles.csv            \n"
          ]
        }
      ]
    },
    {
      "cell_type": "code",
      "execution_count": null,
      "metadata": {
        "id": "jozCMyboe2sF",
        "colab": {
          "base_uri": "https://localhost:8080/",
          "height": 783
        },
        "outputId": "54f1de46-2835-4c7e-bb38-0e642a1b34e8"
      },
      "outputs": [
        {
          "output_type": "execute_result",
          "data": {
            "text/plain": [
              "                id                                                url  \\\n",
              "0       7222695916  https://prescott.craigslist.org/cto/d/prescott...   \n",
              "1       7218891961  https://fayar.craigslist.org/ctd/d/bentonville...   \n",
              "2       7221797935  https://keys.craigslist.org/cto/d/summerland-k...   \n",
              "3       7222270760  https://worcester.craigslist.org/cto/d/west-br...   \n",
              "4       7210384030  https://greensboro.craigslist.org/cto/d/trinit...   \n",
              "...            ...                                                ...   \n",
              "426875  7301591192  https://wyoming.craigslist.org/ctd/d/atlanta-2...   \n",
              "426876  7301591187  https://wyoming.craigslist.org/ctd/d/atlanta-2...   \n",
              "426877  7301591147  https://wyoming.craigslist.org/ctd/d/atlanta-2...   \n",
              "426878  7301591140  https://wyoming.craigslist.org/ctd/d/atlanta-2...   \n",
              "426879  7301591129  https://wyoming.craigslist.org/ctd/d/atlanta-2...   \n",
              "\n",
              "                        region                         region_url  price  \\\n",
              "0                     prescott    https://prescott.craigslist.org   6000   \n",
              "1                 fayetteville       https://fayar.craigslist.org  11900   \n",
              "2                 florida keys        https://keys.craigslist.org  21000   \n",
              "3       worcester / central MA   https://worcester.craigslist.org   1500   \n",
              "4                   greensboro  https://greensboro.craigslist.org   4900   \n",
              "...                        ...                                ...    ...   \n",
              "426875                 wyoming     https://wyoming.craigslist.org  23590   \n",
              "426876                 wyoming     https://wyoming.craigslist.org  30590   \n",
              "426877                 wyoming     https://wyoming.craigslist.org  34990   \n",
              "426878                 wyoming     https://wyoming.craigslist.org  28990   \n",
              "426879                 wyoming     https://wyoming.craigslist.org  30590   \n",
              "\n",
              "          year manufacturer                     model condition    cylinders  \\\n",
              "0          NaN          NaN                       NaN       NaN          NaN   \n",
              "1          NaN          NaN                       NaN       NaN          NaN   \n",
              "2          NaN          NaN                       NaN       NaN          NaN   \n",
              "3          NaN          NaN                       NaN       NaN          NaN   \n",
              "4          NaN          NaN                       NaN       NaN          NaN   \n",
              "...        ...          ...                       ...       ...          ...   \n",
              "426875  2019.0       nissan         maxima s sedan 4d      good  6 cylinders   \n",
              "426876  2020.0        volvo  s60 t5 momentum sedan 4d      good          NaN   \n",
              "426877  2020.0     cadillac          xt4 sport suv 4d      good          NaN   \n",
              "426878  2018.0        lexus           es 350 sedan 4d      good  6 cylinders   \n",
              "426879  2019.0          bmw  4 series 430i gran coupe      good          NaN   \n",
              "\n",
              "        ... size       type paint_color  \\\n",
              "0       ...  NaN        NaN         NaN   \n",
              "1       ...  NaN        NaN         NaN   \n",
              "2       ...  NaN        NaN         NaN   \n",
              "3       ...  NaN        NaN         NaN   \n",
              "4       ...  NaN        NaN         NaN   \n",
              "...     ...  ...        ...         ...   \n",
              "426875  ...  NaN      sedan         NaN   \n",
              "426876  ...  NaN      sedan         red   \n",
              "426877  ...  NaN  hatchback       white   \n",
              "426878  ...  NaN      sedan      silver   \n",
              "426879  ...  NaN      coupe         NaN   \n",
              "\n",
              "                                                image_url  \\\n",
              "0                                                     NaN   \n",
              "1                                                     NaN   \n",
              "2                                                     NaN   \n",
              "3                                                     NaN   \n",
              "4                                                     NaN   \n",
              "...                                                   ...   \n",
              "426875  https://images.craigslist.org/00o0o_iiraFnHg8q...   \n",
              "426876  https://images.craigslist.org/00x0x_15sbgnxCIS...   \n",
              "426877  https://images.craigslist.org/00L0L_farM7bxnxR...   \n",
              "426878  https://images.craigslist.org/00z0z_bKnIVGLkDT...   \n",
              "426879  https://images.craigslist.org/00Y0Y_lEUocjyRxa...   \n",
              "\n",
              "                                              description county state  \\\n",
              "0                                                     NaN    NaN    az   \n",
              "1                                                     NaN    NaN    ar   \n",
              "2                                                     NaN    NaN    fl   \n",
              "3                                                     NaN    NaN    ma   \n",
              "4                                                     NaN    NaN    nc   \n",
              "...                                                   ...    ...   ...   \n",
              "426875  Carvana is the safer way to buy a car During t...    NaN    wy   \n",
              "426876  Carvana is the safer way to buy a car During t...    NaN    wy   \n",
              "426877  Carvana is the safer way to buy a car During t...    NaN    wy   \n",
              "426878  Carvana is the safer way to buy a car During t...    NaN    wy   \n",
              "426879  Carvana is the safer way to buy a car During t...    NaN    wy   \n",
              "\n",
              "              lat       long              posting_date  \n",
              "0             NaN        NaN                       NaN  \n",
              "1             NaN        NaN                       NaN  \n",
              "2             NaN        NaN                       NaN  \n",
              "3             NaN        NaN                       NaN  \n",
              "4             NaN        NaN                       NaN  \n",
              "...           ...        ...                       ...  \n",
              "426875  33.786500 -84.445400  2021-04-04T03:21:31-0600  \n",
              "426876  33.786500 -84.445400  2021-04-04T03:21:29-0600  \n",
              "426877  33.779214 -84.411811  2021-04-04T03:21:17-0600  \n",
              "426878  33.786500 -84.445400  2021-04-04T03:21:11-0600  \n",
              "426879  33.779214 -84.411811  2021-04-04T03:21:07-0600  \n",
              "\n",
              "[426880 rows x 26 columns]"
            ],
            "text/html": [
              "\n",
              "  <div id=\"df-08c38081-7c85-44ad-bb6d-819fb553db48\">\n",
              "    <div class=\"colab-df-container\">\n",
              "      <div>\n",
              "<style scoped>\n",
              "    .dataframe tbody tr th:only-of-type {\n",
              "        vertical-align: middle;\n",
              "    }\n",
              "\n",
              "    .dataframe tbody tr th {\n",
              "        vertical-align: top;\n",
              "    }\n",
              "\n",
              "    .dataframe thead th {\n",
              "        text-align: right;\n",
              "    }\n",
              "</style>\n",
              "<table border=\"1\" class=\"dataframe\">\n",
              "  <thead>\n",
              "    <tr style=\"text-align: right;\">\n",
              "      <th></th>\n",
              "      <th>id</th>\n",
              "      <th>url</th>\n",
              "      <th>region</th>\n",
              "      <th>region_url</th>\n",
              "      <th>price</th>\n",
              "      <th>year</th>\n",
              "      <th>manufacturer</th>\n",
              "      <th>model</th>\n",
              "      <th>condition</th>\n",
              "      <th>cylinders</th>\n",
              "      <th>...</th>\n",
              "      <th>size</th>\n",
              "      <th>type</th>\n",
              "      <th>paint_color</th>\n",
              "      <th>image_url</th>\n",
              "      <th>description</th>\n",
              "      <th>county</th>\n",
              "      <th>state</th>\n",
              "      <th>lat</th>\n",
              "      <th>long</th>\n",
              "      <th>posting_date</th>\n",
              "    </tr>\n",
              "  </thead>\n",
              "  <tbody>\n",
              "    <tr>\n",
              "      <th>0</th>\n",
              "      <td>7222695916</td>\n",
              "      <td>https://prescott.craigslist.org/cto/d/prescott...</td>\n",
              "      <td>prescott</td>\n",
              "      <td>https://prescott.craigslist.org</td>\n",
              "      <td>6000</td>\n",
              "      <td>NaN</td>\n",
              "      <td>NaN</td>\n",
              "      <td>NaN</td>\n",
              "      <td>NaN</td>\n",
              "      <td>NaN</td>\n",
              "      <td>...</td>\n",
              "      <td>NaN</td>\n",
              "      <td>NaN</td>\n",
              "      <td>NaN</td>\n",
              "      <td>NaN</td>\n",
              "      <td>NaN</td>\n",
              "      <td>NaN</td>\n",
              "      <td>az</td>\n",
              "      <td>NaN</td>\n",
              "      <td>NaN</td>\n",
              "      <td>NaN</td>\n",
              "    </tr>\n",
              "    <tr>\n",
              "      <th>1</th>\n",
              "      <td>7218891961</td>\n",
              "      <td>https://fayar.craigslist.org/ctd/d/bentonville...</td>\n",
              "      <td>fayetteville</td>\n",
              "      <td>https://fayar.craigslist.org</td>\n",
              "      <td>11900</td>\n",
              "      <td>NaN</td>\n",
              "      <td>NaN</td>\n",
              "      <td>NaN</td>\n",
              "      <td>NaN</td>\n",
              "      <td>NaN</td>\n",
              "      <td>...</td>\n",
              "      <td>NaN</td>\n",
              "      <td>NaN</td>\n",
              "      <td>NaN</td>\n",
              "      <td>NaN</td>\n",
              "      <td>NaN</td>\n",
              "      <td>NaN</td>\n",
              "      <td>ar</td>\n",
              "      <td>NaN</td>\n",
              "      <td>NaN</td>\n",
              "      <td>NaN</td>\n",
              "    </tr>\n",
              "    <tr>\n",
              "      <th>2</th>\n",
              "      <td>7221797935</td>\n",
              "      <td>https://keys.craigslist.org/cto/d/summerland-k...</td>\n",
              "      <td>florida keys</td>\n",
              "      <td>https://keys.craigslist.org</td>\n",
              "      <td>21000</td>\n",
              "      <td>NaN</td>\n",
              "      <td>NaN</td>\n",
              "      <td>NaN</td>\n",
              "      <td>NaN</td>\n",
              "      <td>NaN</td>\n",
              "      <td>...</td>\n",
              "      <td>NaN</td>\n",
              "      <td>NaN</td>\n",
              "      <td>NaN</td>\n",
              "      <td>NaN</td>\n",
              "      <td>NaN</td>\n",
              "      <td>NaN</td>\n",
              "      <td>fl</td>\n",
              "      <td>NaN</td>\n",
              "      <td>NaN</td>\n",
              "      <td>NaN</td>\n",
              "    </tr>\n",
              "    <tr>\n",
              "      <th>3</th>\n",
              "      <td>7222270760</td>\n",
              "      <td>https://worcester.craigslist.org/cto/d/west-br...</td>\n",
              "      <td>worcester / central MA</td>\n",
              "      <td>https://worcester.craigslist.org</td>\n",
              "      <td>1500</td>\n",
              "      <td>NaN</td>\n",
              "      <td>NaN</td>\n",
              "      <td>NaN</td>\n",
              "      <td>NaN</td>\n",
              "      <td>NaN</td>\n",
              "      <td>...</td>\n",
              "      <td>NaN</td>\n",
              "      <td>NaN</td>\n",
              "      <td>NaN</td>\n",
              "      <td>NaN</td>\n",
              "      <td>NaN</td>\n",
              "      <td>NaN</td>\n",
              "      <td>ma</td>\n",
              "      <td>NaN</td>\n",
              "      <td>NaN</td>\n",
              "      <td>NaN</td>\n",
              "    </tr>\n",
              "    <tr>\n",
              "      <th>4</th>\n",
              "      <td>7210384030</td>\n",
              "      <td>https://greensboro.craigslist.org/cto/d/trinit...</td>\n",
              "      <td>greensboro</td>\n",
              "      <td>https://greensboro.craigslist.org</td>\n",
              "      <td>4900</td>\n",
              "      <td>NaN</td>\n",
              "      <td>NaN</td>\n",
              "      <td>NaN</td>\n",
              "      <td>NaN</td>\n",
              "      <td>NaN</td>\n",
              "      <td>...</td>\n",
              "      <td>NaN</td>\n",
              "      <td>NaN</td>\n",
              "      <td>NaN</td>\n",
              "      <td>NaN</td>\n",
              "      <td>NaN</td>\n",
              "      <td>NaN</td>\n",
              "      <td>nc</td>\n",
              "      <td>NaN</td>\n",
              "      <td>NaN</td>\n",
              "      <td>NaN</td>\n",
              "    </tr>\n",
              "    <tr>\n",
              "      <th>...</th>\n",
              "      <td>...</td>\n",
              "      <td>...</td>\n",
              "      <td>...</td>\n",
              "      <td>...</td>\n",
              "      <td>...</td>\n",
              "      <td>...</td>\n",
              "      <td>...</td>\n",
              "      <td>...</td>\n",
              "      <td>...</td>\n",
              "      <td>...</td>\n",
              "      <td>...</td>\n",
              "      <td>...</td>\n",
              "      <td>...</td>\n",
              "      <td>...</td>\n",
              "      <td>...</td>\n",
              "      <td>...</td>\n",
              "      <td>...</td>\n",
              "      <td>...</td>\n",
              "      <td>...</td>\n",
              "      <td>...</td>\n",
              "      <td>...</td>\n",
              "    </tr>\n",
              "    <tr>\n",
              "      <th>426875</th>\n",
              "      <td>7301591192</td>\n",
              "      <td>https://wyoming.craigslist.org/ctd/d/atlanta-2...</td>\n",
              "      <td>wyoming</td>\n",
              "      <td>https://wyoming.craigslist.org</td>\n",
              "      <td>23590</td>\n",
              "      <td>2019.0</td>\n",
              "      <td>nissan</td>\n",
              "      <td>maxima s sedan 4d</td>\n",
              "      <td>good</td>\n",
              "      <td>6 cylinders</td>\n",
              "      <td>...</td>\n",
              "      <td>NaN</td>\n",
              "      <td>sedan</td>\n",
              "      <td>NaN</td>\n",
              "      <td>https://images.craigslist.org/00o0o_iiraFnHg8q...</td>\n",
              "      <td>Carvana is the safer way to buy a car During t...</td>\n",
              "      <td>NaN</td>\n",
              "      <td>wy</td>\n",
              "      <td>33.786500</td>\n",
              "      <td>-84.445400</td>\n",
              "      <td>2021-04-04T03:21:31-0600</td>\n",
              "    </tr>\n",
              "    <tr>\n",
              "      <th>426876</th>\n",
              "      <td>7301591187</td>\n",
              "      <td>https://wyoming.craigslist.org/ctd/d/atlanta-2...</td>\n",
              "      <td>wyoming</td>\n",
              "      <td>https://wyoming.craigslist.org</td>\n",
              "      <td>30590</td>\n",
              "      <td>2020.0</td>\n",
              "      <td>volvo</td>\n",
              "      <td>s60 t5 momentum sedan 4d</td>\n",
              "      <td>good</td>\n",
              "      <td>NaN</td>\n",
              "      <td>...</td>\n",
              "      <td>NaN</td>\n",
              "      <td>sedan</td>\n",
              "      <td>red</td>\n",
              "      <td>https://images.craigslist.org/00x0x_15sbgnxCIS...</td>\n",
              "      <td>Carvana is the safer way to buy a car During t...</td>\n",
              "      <td>NaN</td>\n",
              "      <td>wy</td>\n",
              "      <td>33.786500</td>\n",
              "      <td>-84.445400</td>\n",
              "      <td>2021-04-04T03:21:29-0600</td>\n",
              "    </tr>\n",
              "    <tr>\n",
              "      <th>426877</th>\n",
              "      <td>7301591147</td>\n",
              "      <td>https://wyoming.craigslist.org/ctd/d/atlanta-2...</td>\n",
              "      <td>wyoming</td>\n",
              "      <td>https://wyoming.craigslist.org</td>\n",
              "      <td>34990</td>\n",
              "      <td>2020.0</td>\n",
              "      <td>cadillac</td>\n",
              "      <td>xt4 sport suv 4d</td>\n",
              "      <td>good</td>\n",
              "      <td>NaN</td>\n",
              "      <td>...</td>\n",
              "      <td>NaN</td>\n",
              "      <td>hatchback</td>\n",
              "      <td>white</td>\n",
              "      <td>https://images.craigslist.org/00L0L_farM7bxnxR...</td>\n",
              "      <td>Carvana is the safer way to buy a car During t...</td>\n",
              "      <td>NaN</td>\n",
              "      <td>wy</td>\n",
              "      <td>33.779214</td>\n",
              "      <td>-84.411811</td>\n",
              "      <td>2021-04-04T03:21:17-0600</td>\n",
              "    </tr>\n",
              "    <tr>\n",
              "      <th>426878</th>\n",
              "      <td>7301591140</td>\n",
              "      <td>https://wyoming.craigslist.org/ctd/d/atlanta-2...</td>\n",
              "      <td>wyoming</td>\n",
              "      <td>https://wyoming.craigslist.org</td>\n",
              "      <td>28990</td>\n",
              "      <td>2018.0</td>\n",
              "      <td>lexus</td>\n",
              "      <td>es 350 sedan 4d</td>\n",
              "      <td>good</td>\n",
              "      <td>6 cylinders</td>\n",
              "      <td>...</td>\n",
              "      <td>NaN</td>\n",
              "      <td>sedan</td>\n",
              "      <td>silver</td>\n",
              "      <td>https://images.craigslist.org/00z0z_bKnIVGLkDT...</td>\n",
              "      <td>Carvana is the safer way to buy a car During t...</td>\n",
              "      <td>NaN</td>\n",
              "      <td>wy</td>\n",
              "      <td>33.786500</td>\n",
              "      <td>-84.445400</td>\n",
              "      <td>2021-04-04T03:21:11-0600</td>\n",
              "    </tr>\n",
              "    <tr>\n",
              "      <th>426879</th>\n",
              "      <td>7301591129</td>\n",
              "      <td>https://wyoming.craigslist.org/ctd/d/atlanta-2...</td>\n",
              "      <td>wyoming</td>\n",
              "      <td>https://wyoming.craigslist.org</td>\n",
              "      <td>30590</td>\n",
              "      <td>2019.0</td>\n",
              "      <td>bmw</td>\n",
              "      <td>4 series 430i gran coupe</td>\n",
              "      <td>good</td>\n",
              "      <td>NaN</td>\n",
              "      <td>...</td>\n",
              "      <td>NaN</td>\n",
              "      <td>coupe</td>\n",
              "      <td>NaN</td>\n",
              "      <td>https://images.craigslist.org/00Y0Y_lEUocjyRxa...</td>\n",
              "      <td>Carvana is the safer way to buy a car During t...</td>\n",
              "      <td>NaN</td>\n",
              "      <td>wy</td>\n",
              "      <td>33.779214</td>\n",
              "      <td>-84.411811</td>\n",
              "      <td>2021-04-04T03:21:07-0600</td>\n",
              "    </tr>\n",
              "  </tbody>\n",
              "</table>\n",
              "<p>426880 rows × 26 columns</p>\n",
              "</div>\n",
              "      <button class=\"colab-df-convert\" onclick=\"convertToInteractive('df-08c38081-7c85-44ad-bb6d-819fb553db48')\"\n",
              "              title=\"Convert this dataframe to an interactive table.\"\n",
              "              style=\"display:none;\">\n",
              "        \n",
              "  <svg xmlns=\"http://www.w3.org/2000/svg\" height=\"24px\"viewBox=\"0 0 24 24\"\n",
              "       width=\"24px\">\n",
              "    <path d=\"M0 0h24v24H0V0z\" fill=\"none\"/>\n",
              "    <path d=\"M18.56 5.44l.94 2.06.94-2.06 2.06-.94-2.06-.94-.94-2.06-.94 2.06-2.06.94zm-11 1L8.5 8.5l.94-2.06 2.06-.94-2.06-.94L8.5 2.5l-.94 2.06-2.06.94zm10 10l.94 2.06.94-2.06 2.06-.94-2.06-.94-.94-2.06-.94 2.06-2.06.94z\"/><path d=\"M17.41 7.96l-1.37-1.37c-.4-.4-.92-.59-1.43-.59-.52 0-1.04.2-1.43.59L10.3 9.45l-7.72 7.72c-.78.78-.78 2.05 0 2.83L4 21.41c.39.39.9.59 1.41.59.51 0 1.02-.2 1.41-.59l7.78-7.78 2.81-2.81c.8-.78.8-2.07 0-2.86zM5.41 20L4 18.59l7.72-7.72 1.47 1.35L5.41 20z\"/>\n",
              "  </svg>\n",
              "      </button>\n",
              "      \n",
              "  <style>\n",
              "    .colab-df-container {\n",
              "      display:flex;\n",
              "      flex-wrap:wrap;\n",
              "      gap: 12px;\n",
              "    }\n",
              "\n",
              "    .colab-df-convert {\n",
              "      background-color: #E8F0FE;\n",
              "      border: none;\n",
              "      border-radius: 50%;\n",
              "      cursor: pointer;\n",
              "      display: none;\n",
              "      fill: #1967D2;\n",
              "      height: 32px;\n",
              "      padding: 0 0 0 0;\n",
              "      width: 32px;\n",
              "    }\n",
              "\n",
              "    .colab-df-convert:hover {\n",
              "      background-color: #E2EBFA;\n",
              "      box-shadow: 0px 1px 2px rgba(60, 64, 67, 0.3), 0px 1px 3px 1px rgba(60, 64, 67, 0.15);\n",
              "      fill: #174EA6;\n",
              "    }\n",
              "\n",
              "    [theme=dark] .colab-df-convert {\n",
              "      background-color: #3B4455;\n",
              "      fill: #D2E3FC;\n",
              "    }\n",
              "\n",
              "    [theme=dark] .colab-df-convert:hover {\n",
              "      background-color: #434B5C;\n",
              "      box-shadow: 0px 1px 3px 1px rgba(0, 0, 0, 0.15);\n",
              "      filter: drop-shadow(0px 1px 2px rgba(0, 0, 0, 0.3));\n",
              "      fill: #FFFFFF;\n",
              "    }\n",
              "  </style>\n",
              "\n",
              "      <script>\n",
              "        const buttonEl =\n",
              "          document.querySelector('#df-08c38081-7c85-44ad-bb6d-819fb553db48 button.colab-df-convert');\n",
              "        buttonEl.style.display =\n",
              "          google.colab.kernel.accessAllowed ? 'block' : 'none';\n",
              "\n",
              "        async function convertToInteractive(key) {\n",
              "          const element = document.querySelector('#df-08c38081-7c85-44ad-bb6d-819fb553db48');\n",
              "          const dataTable =\n",
              "            await google.colab.kernel.invokeFunction('convertToInteractive',\n",
              "                                                     [key], {});\n",
              "          if (!dataTable) return;\n",
              "\n",
              "          const docLinkHtml = 'Like what you see? Visit the ' +\n",
              "            '<a target=\"_blank\" href=https://colab.research.google.com/notebooks/data_table.ipynb>data table notebook</a>'\n",
              "            + ' to learn more about interactive tables.';\n",
              "          element.innerHTML = '';\n",
              "          dataTable['output_type'] = 'display_data';\n",
              "          await google.colab.output.renderOutput(dataTable, element);\n",
              "          const docLink = document.createElement('div');\n",
              "          docLink.innerHTML = docLinkHtml;\n",
              "          element.appendChild(docLink);\n",
              "        }\n",
              "      </script>\n",
              "    </div>\n",
              "  </div>\n",
              "  "
            ]
          },
          "metadata": {},
          "execution_count": 12
        }
      ],
      "source": [
        "#second dataset\n",
        "df = pd.read_csv('vehicles.csv')\n",
        "df"
      ]
    },
    {
      "cell_type": "code",
      "source": [
        "print(\"Dataset dimension (row, coloumn):\")\n",
        "print(df.shape)"
      ],
      "metadata": {
        "colab": {
          "base_uri": "https://localhost:8080/"
        },
        "id": "vZtppOkm10HZ",
        "outputId": "917aff63-d41f-4e25-b2c2-b6b11191741a"
      },
      "execution_count": null,
      "outputs": [
        {
          "output_type": "stream",
          "name": "stdout",
          "text": [
            "Dataset dimension (row, coloumn):\n",
            "(426880, 26)\n"
          ]
        }
      ]
    },
    {
      "cell_type": "code",
      "source": [
        "print(df.info())"
      ],
      "metadata": {
        "colab": {
          "base_uri": "https://localhost:8080/"
        },
        "id": "3m8MFeuH15kH",
        "outputId": "cf9a0654-2430-49d0-b7dd-f3d907f50de2"
      },
      "execution_count": null,
      "outputs": [
        {
          "output_type": "stream",
          "name": "stdout",
          "text": [
            "<class 'pandas.core.frame.DataFrame'>\n",
            "RangeIndex: 426880 entries, 0 to 426879\n",
            "Data columns (total 26 columns):\n",
            " #   Column        Non-Null Count   Dtype  \n",
            "---  ------        --------------   -----  \n",
            " 0   id            426880 non-null  int64  \n",
            " 1   url           426880 non-null  object \n",
            " 2   region        426880 non-null  object \n",
            " 3   region_url    426880 non-null  object \n",
            " 4   price         426880 non-null  int64  \n",
            " 5   year          425675 non-null  float64\n",
            " 6   manufacturer  409234 non-null  object \n",
            " 7   model         421603 non-null  object \n",
            " 8   condition     252776 non-null  object \n",
            " 9   cylinders     249202 non-null  object \n",
            " 10  fuel          423867 non-null  object \n",
            " 11  odometer      422480 non-null  float64\n",
            " 12  title_status  418638 non-null  object \n",
            " 13  transmission  424324 non-null  object \n",
            " 14  VIN           265838 non-null  object \n",
            " 15  drive         296313 non-null  object \n",
            " 16  size          120519 non-null  object \n",
            " 17  type          334022 non-null  object \n",
            " 18  paint_color   296677 non-null  object \n",
            " 19  image_url     426812 non-null  object \n",
            " 20  description   426810 non-null  object \n",
            " 21  county        0 non-null       float64\n",
            " 22  state         426880 non-null  object \n",
            " 23  lat           420331 non-null  float64\n",
            " 24  long          420331 non-null  float64\n",
            " 25  posting_date  426812 non-null  object \n",
            "dtypes: float64(5), int64(2), object(19)\n",
            "memory usage: 84.7+ MB\n",
            "None\n"
          ]
        }
      ]
    },
    {
      "cell_type": "code",
      "source": [
        "# the features which are too common or of no use like url can be dropped\n",
        "df= df.drop(columns=['id','url', 'region_url', 'VIN', 'image_url',\n",
        "                     'description', 'lat', 'long','county','region','posting_date'], axis=1)"
      ],
      "metadata": {
        "id": "5q5PQWxL1_Zk"
      },
      "execution_count": null,
      "outputs": []
    },
    {
      "cell_type": "code",
      "source": [
        "df.head()"
      ],
      "metadata": {
        "colab": {
          "base_uri": "https://localhost:8080/",
          "height": 250
        },
        "id": "QSTlBCdo3W9G",
        "outputId": "363084f3-2806-44d9-bb04-9a32344b17a6"
      },
      "execution_count": null,
      "outputs": [
        {
          "output_type": "execute_result",
          "data": {
            "text/plain": [
              "   price  year manufacturer model condition cylinders fuel  odometer  \\\n",
              "0   6000   NaN          NaN   NaN       NaN       NaN  NaN       NaN   \n",
              "1  11900   NaN          NaN   NaN       NaN       NaN  NaN       NaN   \n",
              "2  21000   NaN          NaN   NaN       NaN       NaN  NaN       NaN   \n",
              "3   1500   NaN          NaN   NaN       NaN       NaN  NaN       NaN   \n",
              "4   4900   NaN          NaN   NaN       NaN       NaN  NaN       NaN   \n",
              "\n",
              "  title_status transmission drive size type paint_color state  \n",
              "0          NaN          NaN   NaN  NaN  NaN         NaN    az  \n",
              "1          NaN          NaN   NaN  NaN  NaN         NaN    ar  \n",
              "2          NaN          NaN   NaN  NaN  NaN         NaN    fl  \n",
              "3          NaN          NaN   NaN  NaN  NaN         NaN    ma  \n",
              "4          NaN          NaN   NaN  NaN  NaN         NaN    nc  "
            ],
            "text/html": [
              "\n",
              "  <div id=\"df-ed8c5af1-8e04-4c96-a81b-6f91c4dd1343\">\n",
              "    <div class=\"colab-df-container\">\n",
              "      <div>\n",
              "<style scoped>\n",
              "    .dataframe tbody tr th:only-of-type {\n",
              "        vertical-align: middle;\n",
              "    }\n",
              "\n",
              "    .dataframe tbody tr th {\n",
              "        vertical-align: top;\n",
              "    }\n",
              "\n",
              "    .dataframe thead th {\n",
              "        text-align: right;\n",
              "    }\n",
              "</style>\n",
              "<table border=\"1\" class=\"dataframe\">\n",
              "  <thead>\n",
              "    <tr style=\"text-align: right;\">\n",
              "      <th></th>\n",
              "      <th>price</th>\n",
              "      <th>year</th>\n",
              "      <th>manufacturer</th>\n",
              "      <th>model</th>\n",
              "      <th>condition</th>\n",
              "      <th>cylinders</th>\n",
              "      <th>fuel</th>\n",
              "      <th>odometer</th>\n",
              "      <th>title_status</th>\n",
              "      <th>transmission</th>\n",
              "      <th>drive</th>\n",
              "      <th>size</th>\n",
              "      <th>type</th>\n",
              "      <th>paint_color</th>\n",
              "      <th>state</th>\n",
              "    </tr>\n",
              "  </thead>\n",
              "  <tbody>\n",
              "    <tr>\n",
              "      <th>0</th>\n",
              "      <td>6000</td>\n",
              "      <td>NaN</td>\n",
              "      <td>NaN</td>\n",
              "      <td>NaN</td>\n",
              "      <td>NaN</td>\n",
              "      <td>NaN</td>\n",
              "      <td>NaN</td>\n",
              "      <td>NaN</td>\n",
              "      <td>NaN</td>\n",
              "      <td>NaN</td>\n",
              "      <td>NaN</td>\n",
              "      <td>NaN</td>\n",
              "      <td>NaN</td>\n",
              "      <td>NaN</td>\n",
              "      <td>az</td>\n",
              "    </tr>\n",
              "    <tr>\n",
              "      <th>1</th>\n",
              "      <td>11900</td>\n",
              "      <td>NaN</td>\n",
              "      <td>NaN</td>\n",
              "      <td>NaN</td>\n",
              "      <td>NaN</td>\n",
              "      <td>NaN</td>\n",
              "      <td>NaN</td>\n",
              "      <td>NaN</td>\n",
              "      <td>NaN</td>\n",
              "      <td>NaN</td>\n",
              "      <td>NaN</td>\n",
              "      <td>NaN</td>\n",
              "      <td>NaN</td>\n",
              "      <td>NaN</td>\n",
              "      <td>ar</td>\n",
              "    </tr>\n",
              "    <tr>\n",
              "      <th>2</th>\n",
              "      <td>21000</td>\n",
              "      <td>NaN</td>\n",
              "      <td>NaN</td>\n",
              "      <td>NaN</td>\n",
              "      <td>NaN</td>\n",
              "      <td>NaN</td>\n",
              "      <td>NaN</td>\n",
              "      <td>NaN</td>\n",
              "      <td>NaN</td>\n",
              "      <td>NaN</td>\n",
              "      <td>NaN</td>\n",
              "      <td>NaN</td>\n",
              "      <td>NaN</td>\n",
              "      <td>NaN</td>\n",
              "      <td>fl</td>\n",
              "    </tr>\n",
              "    <tr>\n",
              "      <th>3</th>\n",
              "      <td>1500</td>\n",
              "      <td>NaN</td>\n",
              "      <td>NaN</td>\n",
              "      <td>NaN</td>\n",
              "      <td>NaN</td>\n",
              "      <td>NaN</td>\n",
              "      <td>NaN</td>\n",
              "      <td>NaN</td>\n",
              "      <td>NaN</td>\n",
              "      <td>NaN</td>\n",
              "      <td>NaN</td>\n",
              "      <td>NaN</td>\n",
              "      <td>NaN</td>\n",
              "      <td>NaN</td>\n",
              "      <td>ma</td>\n",
              "    </tr>\n",
              "    <tr>\n",
              "      <th>4</th>\n",
              "      <td>4900</td>\n",
              "      <td>NaN</td>\n",
              "      <td>NaN</td>\n",
              "      <td>NaN</td>\n",
              "      <td>NaN</td>\n",
              "      <td>NaN</td>\n",
              "      <td>NaN</td>\n",
              "      <td>NaN</td>\n",
              "      <td>NaN</td>\n",
              "      <td>NaN</td>\n",
              "      <td>NaN</td>\n",
              "      <td>NaN</td>\n",
              "      <td>NaN</td>\n",
              "      <td>NaN</td>\n",
              "      <td>nc</td>\n",
              "    </tr>\n",
              "  </tbody>\n",
              "</table>\n",
              "</div>\n",
              "      <button class=\"colab-df-convert\" onclick=\"convertToInteractive('df-ed8c5af1-8e04-4c96-a81b-6f91c4dd1343')\"\n",
              "              title=\"Convert this dataframe to an interactive table.\"\n",
              "              style=\"display:none;\">\n",
              "        \n",
              "  <svg xmlns=\"http://www.w3.org/2000/svg\" height=\"24px\"viewBox=\"0 0 24 24\"\n",
              "       width=\"24px\">\n",
              "    <path d=\"M0 0h24v24H0V0z\" fill=\"none\"/>\n",
              "    <path d=\"M18.56 5.44l.94 2.06.94-2.06 2.06-.94-2.06-.94-.94-2.06-.94 2.06-2.06.94zm-11 1L8.5 8.5l.94-2.06 2.06-.94-2.06-.94L8.5 2.5l-.94 2.06-2.06.94zm10 10l.94 2.06.94-2.06 2.06-.94-2.06-.94-.94-2.06-.94 2.06-2.06.94z\"/><path d=\"M17.41 7.96l-1.37-1.37c-.4-.4-.92-.59-1.43-.59-.52 0-1.04.2-1.43.59L10.3 9.45l-7.72 7.72c-.78.78-.78 2.05 0 2.83L4 21.41c.39.39.9.59 1.41.59.51 0 1.02-.2 1.41-.59l7.78-7.78 2.81-2.81c.8-.78.8-2.07 0-2.86zM5.41 20L4 18.59l7.72-7.72 1.47 1.35L5.41 20z\"/>\n",
              "  </svg>\n",
              "      </button>\n",
              "      \n",
              "  <style>\n",
              "    .colab-df-container {\n",
              "      display:flex;\n",
              "      flex-wrap:wrap;\n",
              "      gap: 12px;\n",
              "    }\n",
              "\n",
              "    .colab-df-convert {\n",
              "      background-color: #E8F0FE;\n",
              "      border: none;\n",
              "      border-radius: 50%;\n",
              "      cursor: pointer;\n",
              "      display: none;\n",
              "      fill: #1967D2;\n",
              "      height: 32px;\n",
              "      padding: 0 0 0 0;\n",
              "      width: 32px;\n",
              "    }\n",
              "\n",
              "    .colab-df-convert:hover {\n",
              "      background-color: #E2EBFA;\n",
              "      box-shadow: 0px 1px 2px rgba(60, 64, 67, 0.3), 0px 1px 3px 1px rgba(60, 64, 67, 0.15);\n",
              "      fill: #174EA6;\n",
              "    }\n",
              "\n",
              "    [theme=dark] .colab-df-convert {\n",
              "      background-color: #3B4455;\n",
              "      fill: #D2E3FC;\n",
              "    }\n",
              "\n",
              "    [theme=dark] .colab-df-convert:hover {\n",
              "      background-color: #434B5C;\n",
              "      box-shadow: 0px 1px 3px 1px rgba(0, 0, 0, 0.15);\n",
              "      filter: drop-shadow(0px 1px 2px rgba(0, 0, 0, 0.3));\n",
              "      fill: #FFFFFF;\n",
              "    }\n",
              "  </style>\n",
              "\n",
              "      <script>\n",
              "        const buttonEl =\n",
              "          document.querySelector('#df-ed8c5af1-8e04-4c96-a81b-6f91c4dd1343 button.colab-df-convert');\n",
              "        buttonEl.style.display =\n",
              "          google.colab.kernel.accessAllowed ? 'block' : 'none';\n",
              "\n",
              "        async function convertToInteractive(key) {\n",
              "          const element = document.querySelector('#df-ed8c5af1-8e04-4c96-a81b-6f91c4dd1343');\n",
              "          const dataTable =\n",
              "            await google.colab.kernel.invokeFunction('convertToInteractive',\n",
              "                                                     [key], {});\n",
              "          if (!dataTable) return;\n",
              "\n",
              "          const docLinkHtml = 'Like what you see? Visit the ' +\n",
              "            '<a target=\"_blank\" href=https://colab.research.google.com/notebooks/data_table.ipynb>data table notebook</a>'\n",
              "            + ' to learn more about interactive tables.';\n",
              "          element.innerHTML = '';\n",
              "          dataTable['output_type'] = 'display_data';\n",
              "          await google.colab.output.renderOutput(dataTable, element);\n",
              "          const docLink = document.createElement('div');\n",
              "          docLink.innerHTML = docLinkHtml;\n",
              "          element.appendChild(docLink);\n",
              "        }\n",
              "      </script>\n",
              "    </div>\n",
              "  </div>\n",
              "  "
            ]
          },
          "metadata": {},
          "execution_count": 16
        }
      ]
    },
    {
      "cell_type": "code",
      "source": [
        "df.describe()"
      ],
      "metadata": {
        "colab": {
          "base_uri": "https://localhost:8080/",
          "height": 300
        },
        "id": "bMUKuZUq2Yzc",
        "outputId": "adb85949-5097-4129-ce4d-0542c7501132"
      },
      "execution_count": null,
      "outputs": [
        {
          "output_type": "execute_result",
          "data": {
            "text/plain": [
              "              price           year      odometer\n",
              "count  4.268800e+05  425675.000000  4.224800e+05\n",
              "mean   7.519903e+04    2011.235191  9.804333e+04\n",
              "std    1.218228e+07       9.452120  2.138815e+05\n",
              "min    0.000000e+00    1900.000000  0.000000e+00\n",
              "25%    5.900000e+03    2008.000000  3.770400e+04\n",
              "50%    1.395000e+04    2013.000000  8.554800e+04\n",
              "75%    2.648575e+04    2017.000000  1.335425e+05\n",
              "max    3.736929e+09    2022.000000  1.000000e+07"
            ],
            "text/html": [
              "\n",
              "  <div id=\"df-02cf7361-8abd-4d93-ae63-8a5cc26c5069\">\n",
              "    <div class=\"colab-df-container\">\n",
              "      <div>\n",
              "<style scoped>\n",
              "    .dataframe tbody tr th:only-of-type {\n",
              "        vertical-align: middle;\n",
              "    }\n",
              "\n",
              "    .dataframe tbody tr th {\n",
              "        vertical-align: top;\n",
              "    }\n",
              "\n",
              "    .dataframe thead th {\n",
              "        text-align: right;\n",
              "    }\n",
              "</style>\n",
              "<table border=\"1\" class=\"dataframe\">\n",
              "  <thead>\n",
              "    <tr style=\"text-align: right;\">\n",
              "      <th></th>\n",
              "      <th>price</th>\n",
              "      <th>year</th>\n",
              "      <th>odometer</th>\n",
              "    </tr>\n",
              "  </thead>\n",
              "  <tbody>\n",
              "    <tr>\n",
              "      <th>count</th>\n",
              "      <td>4.268800e+05</td>\n",
              "      <td>425675.000000</td>\n",
              "      <td>4.224800e+05</td>\n",
              "    </tr>\n",
              "    <tr>\n",
              "      <th>mean</th>\n",
              "      <td>7.519903e+04</td>\n",
              "      <td>2011.235191</td>\n",
              "      <td>9.804333e+04</td>\n",
              "    </tr>\n",
              "    <tr>\n",
              "      <th>std</th>\n",
              "      <td>1.218228e+07</td>\n",
              "      <td>9.452120</td>\n",
              "      <td>2.138815e+05</td>\n",
              "    </tr>\n",
              "    <tr>\n",
              "      <th>min</th>\n",
              "      <td>0.000000e+00</td>\n",
              "      <td>1900.000000</td>\n",
              "      <td>0.000000e+00</td>\n",
              "    </tr>\n",
              "    <tr>\n",
              "      <th>25%</th>\n",
              "      <td>5.900000e+03</td>\n",
              "      <td>2008.000000</td>\n",
              "      <td>3.770400e+04</td>\n",
              "    </tr>\n",
              "    <tr>\n",
              "      <th>50%</th>\n",
              "      <td>1.395000e+04</td>\n",
              "      <td>2013.000000</td>\n",
              "      <td>8.554800e+04</td>\n",
              "    </tr>\n",
              "    <tr>\n",
              "      <th>75%</th>\n",
              "      <td>2.648575e+04</td>\n",
              "      <td>2017.000000</td>\n",
              "      <td>1.335425e+05</td>\n",
              "    </tr>\n",
              "    <tr>\n",
              "      <th>max</th>\n",
              "      <td>3.736929e+09</td>\n",
              "      <td>2022.000000</td>\n",
              "      <td>1.000000e+07</td>\n",
              "    </tr>\n",
              "  </tbody>\n",
              "</table>\n",
              "</div>\n",
              "      <button class=\"colab-df-convert\" onclick=\"convertToInteractive('df-02cf7361-8abd-4d93-ae63-8a5cc26c5069')\"\n",
              "              title=\"Convert this dataframe to an interactive table.\"\n",
              "              style=\"display:none;\">\n",
              "        \n",
              "  <svg xmlns=\"http://www.w3.org/2000/svg\" height=\"24px\"viewBox=\"0 0 24 24\"\n",
              "       width=\"24px\">\n",
              "    <path d=\"M0 0h24v24H0V0z\" fill=\"none\"/>\n",
              "    <path d=\"M18.56 5.44l.94 2.06.94-2.06 2.06-.94-2.06-.94-.94-2.06-.94 2.06-2.06.94zm-11 1L8.5 8.5l.94-2.06 2.06-.94-2.06-.94L8.5 2.5l-.94 2.06-2.06.94zm10 10l.94 2.06.94-2.06 2.06-.94-2.06-.94-.94-2.06-.94 2.06-2.06.94z\"/><path d=\"M17.41 7.96l-1.37-1.37c-.4-.4-.92-.59-1.43-.59-.52 0-1.04.2-1.43.59L10.3 9.45l-7.72 7.72c-.78.78-.78 2.05 0 2.83L4 21.41c.39.39.9.59 1.41.59.51 0 1.02-.2 1.41-.59l7.78-7.78 2.81-2.81c.8-.78.8-2.07 0-2.86zM5.41 20L4 18.59l7.72-7.72 1.47 1.35L5.41 20z\"/>\n",
              "  </svg>\n",
              "      </button>\n",
              "      \n",
              "  <style>\n",
              "    .colab-df-container {\n",
              "      display:flex;\n",
              "      flex-wrap:wrap;\n",
              "      gap: 12px;\n",
              "    }\n",
              "\n",
              "    .colab-df-convert {\n",
              "      background-color: #E8F0FE;\n",
              "      border: none;\n",
              "      border-radius: 50%;\n",
              "      cursor: pointer;\n",
              "      display: none;\n",
              "      fill: #1967D2;\n",
              "      height: 32px;\n",
              "      padding: 0 0 0 0;\n",
              "      width: 32px;\n",
              "    }\n",
              "\n",
              "    .colab-df-convert:hover {\n",
              "      background-color: #E2EBFA;\n",
              "      box-shadow: 0px 1px 2px rgba(60, 64, 67, 0.3), 0px 1px 3px 1px rgba(60, 64, 67, 0.15);\n",
              "      fill: #174EA6;\n",
              "    }\n",
              "\n",
              "    [theme=dark] .colab-df-convert {\n",
              "      background-color: #3B4455;\n",
              "      fill: #D2E3FC;\n",
              "    }\n",
              "\n",
              "    [theme=dark] .colab-df-convert:hover {\n",
              "      background-color: #434B5C;\n",
              "      box-shadow: 0px 1px 3px 1px rgba(0, 0, 0, 0.15);\n",
              "      filter: drop-shadow(0px 1px 2px rgba(0, 0, 0, 0.3));\n",
              "      fill: #FFFFFF;\n",
              "    }\n",
              "  </style>\n",
              "\n",
              "      <script>\n",
              "        const buttonEl =\n",
              "          document.querySelector('#df-02cf7361-8abd-4d93-ae63-8a5cc26c5069 button.colab-df-convert');\n",
              "        buttonEl.style.display =\n",
              "          google.colab.kernel.accessAllowed ? 'block' : 'none';\n",
              "\n",
              "        async function convertToInteractive(key) {\n",
              "          const element = document.querySelector('#df-02cf7361-8abd-4d93-ae63-8a5cc26c5069');\n",
              "          const dataTable =\n",
              "            await google.colab.kernel.invokeFunction('convertToInteractive',\n",
              "                                                     [key], {});\n",
              "          if (!dataTable) return;\n",
              "\n",
              "          const docLinkHtml = 'Like what you see? Visit the ' +\n",
              "            '<a target=\"_blank\" href=https://colab.research.google.com/notebooks/data_table.ipynb>data table notebook</a>'\n",
              "            + ' to learn more about interactive tables.';\n",
              "          element.innerHTML = '';\n",
              "          dataTable['output_type'] = 'display_data';\n",
              "          await google.colab.output.renderOutput(dataTable, element);\n",
              "          const docLink = document.createElement('div');\n",
              "          docLink.innerHTML = docLinkHtml;\n",
              "          element.appendChild(docLink);\n",
              "        }\n",
              "      </script>\n",
              "    </div>\n",
              "  </div>\n",
              "  "
            ]
          },
          "metadata": {},
          "execution_count": 17
        }
      ]
    },
    {
      "cell_type": "markdown",
      "source": [
        "**Handling outliers**\n",
        "\n",
        "Lets see if any outliers in Target variable as we remove them the model can be more accurate\n",
        "because they cause a bring a lot of difference in values of mean.\n",
        "\n",
        "The difference between 75% value and max value is too large so lets leave 10% values at both ends of a distribution"
      ],
      "metadata": {
        "id": "FEBfTjW8NDt1"
      }
    },
    {
      "cell_type": "code",
      "execution_count": null,
      "metadata": {
        "colab": {
          "base_uri": "https://localhost:8080/"
        },
        "id": "w96Q3A4LfCS6",
        "outputId": "79d7ad40-81b2-49fc-ddab-9a7c4ebd146b"
      },
      "outputs": [
        {
          "output_type": "stream",
          "name": "stdout",
          "text": [
            "500.0 37590.0\n"
          ]
        }
      ],
      "source": [
        "rr=sorted(df[\"price\"])\n",
        "quantile1, quantile3= np.percentile(rr,[10,90])\n",
        "print(quantile1,quantile3)"
      ]
    },
    {
      "cell_type": "code",
      "source": [
        "df=df[(df.price < 37590) & (df.price >= 500 )]\n",
        "print(df.shape)"
      ],
      "metadata": {
        "colab": {
          "base_uri": "https://localhost:8080/"
        },
        "id": "D3S_OJQE4He5",
        "outputId": "4fec4acd-106a-474c-ecd7-71ef2f94a20f"
      },
      "execution_count": null,
      "outputs": [
        {
          "output_type": "stream",
          "name": "stdout",
          "text": [
            "(341976, 15)\n"
          ]
        }
      ]
    },
    {
      "cell_type": "markdown",
      "source": [
        "Lets observe the odometer column"
      ],
      "metadata": {
        "id": "99M-JZONOdth"
      }
    },
    {
      "cell_type": "code",
      "source": [
        "df[\"odometer\"].isna().sum()"
      ],
      "metadata": {
        "colab": {
          "base_uri": "https://localhost:8080/"
        },
        "id": "ncqlbE_5OIuf",
        "outputId": "395a471e-055c-4c2f-a4b9-25eaa66bd48a"
      },
      "execution_count": null,
      "outputs": [
        {
          "output_type": "execute_result",
          "data": {
            "text/plain": [
              "1889"
            ]
          },
          "metadata": {},
          "execution_count": 20
        }
      ]
    },
    {
      "cell_type": "code",
      "source": [
        "print(df[\"odometer\"].max())"
      ],
      "metadata": {
        "colab": {
          "base_uri": "https://localhost:8080/"
        },
        "id": "yMrrAcZ5OUNu",
        "outputId": "b7efd1da-d824-41c9-91e0-08044e856cdb"
      },
      "execution_count": null,
      "outputs": [
        {
          "output_type": "stream",
          "name": "stdout",
          "text": [
            "10000000.0\n"
          ]
        }
      ]
    },
    {
      "cell_type": "code",
      "source": [
        "df.drop(df[df[\"odometer\"]==10000000.0].index,inplace=True)  ######\n",
        "df.drop(df[df[\"odometer\"]==0.0].index,inplace=True)\n",
        "ax = sns.scatterplot(x=\"odometer\", y=\"price\", data=df)\n",
        "ax.get_xaxis().get_major_formatter().set_scientific(False)\n",
        "ax.get_yaxis().get_major_formatter().set_scientific(False)"
      ],
      "metadata": {
        "colab": {
          "base_uri": "https://localhost:8080/",
          "height": 279
        },
        "id": "f0ox2Ayg5Avs",
        "outputId": "e8d3fe9b-90bd-460c-a8f4-a0dddda115b7"
      },
      "execution_count": null,
      "outputs": [
        {
          "output_type": "display_data",
          "data": {
            "text/plain": [
              "<Figure size 432x288 with 1 Axes>"
            ],
            "image/png": "[encoded data removed]"
          },
          "metadata": {
            "needs_background": "light"
          }
        }
      ]
    },
    {
      "cell_type": "markdown",
      "source": [
        "here the values above 3000000 can be considered as outliers"
      ],
      "metadata": {
        "id": "9lI_5ahJPXv7"
      }
    },
    {
      "cell_type": "code",
      "source": [
        "df=df[(df.odometer < 3000000)]\n",
        "df[\"odometer\"].isna().sum()"
      ],
      "metadata": {
        "colab": {
          "base_uri": "https://localhost:8080/"
        },
        "id": "WwYjw_suO6UV",
        "outputId": "ccfeb34b-3f90-41b0-8d38-c1218a532a0c"
      },
      "execution_count": null,
      "outputs": [
        {
          "output_type": "execute_result",
          "data": {
            "text/plain": [
              "0"
            ]
          },
          "metadata": {},
          "execution_count": 23
        }
      ]
    },
    {
      "cell_type": "markdown",
      "source": [
        "Lets observe the year column"
      ],
      "metadata": {
        "id": "CfkGhfykQJh4"
      }
    },
    {
      "cell_type": "code",
      "source": [
        "df[\"year\"].isna().sum()"
      ],
      "metadata": {
        "colab": {
          "base_uri": "https://localhost:8080/"
        },
        "id": "hpk1V7B3Ptak",
        "outputId": "800dedc3-1f9d-4b57-c0ec-70793a3a0f89"
      },
      "execution_count": null,
      "outputs": [
        {
          "output_type": "execute_result",
          "data": {
            "text/plain": [
              "564"
            ]
          },
          "metadata": {},
          "execution_count": 24
        }
      ]
    },
    {
      "cell_type": "code",
      "source": [
        "bx = sns.scatterplot(x=\"year\", y=\"price\", data=df)"
      ],
      "metadata": {
        "id": "wZDEAwrSP1Xu",
        "colab": {
          "base_uri": "https://localhost:8080/",
          "height": 279
        },
        "outputId": "70ffb227-744e-4f25-a7b2-a7a5631c797f"
      },
      "execution_count": null,
      "outputs": [
        {
          "output_type": "display_data",
          "data": {
            "text/plain": [
              "<Figure size 432x288 with 1 Axes>"
            ],
            "image/png": "[encoded data removed]"
          },
          "metadata": {
            "needs_background": "light"
          }
        }
      ]
    },
    {
      "cell_type": "code",
      "source": [
        "#the null values in a year column cannot be replaced so lets eliminate them\n",
        "df.drop(df[df[\"year\"]==0.0].index,inplace=True)\n",
        "df=df.dropna(subset=['year'])\n",
        "df=df[(df.year > 1940)]"
      ],
      "metadata": {
        "id": "-2_w7ZibPmRv"
      },
      "execution_count": null,
      "outputs": []
    },
    {
      "cell_type": "markdown",
      "source": [
        "Handling null values"
      ],
      "metadata": {
        "id": "w5lGhWejQMfp"
      }
    },
    {
      "cell_type": "code",
      "source": [
        "df=df.dropna(subset=['title_status','fuel','transmission','model','manufacturer'])\n",
        "df=df.drop([\"size\"],axis=1)\n",
        "df['paint_color'] = df['paint_color'].fillna(method='ffill')\n",
        "df['drive'] = df['drive'].fillna(method='ffill')\n",
        "df['type'] = df['type'].fillna(method='ffill')\n",
        "df['cylinders'] = df['cylinders'].fillna(method='ffill')\n",
        "df=df.dropna(subset=['condition','drive'])\n",
        "print(df.isnull().sum())"
      ],
      "metadata": {
        "colab": {
          "base_uri": "https://localhost:8080/"
        },
        "id": "GXtaykgNQD8E",
        "outputId": "ad86a549-904b-4b51-b58e-f60e43b60863"
      },
      "execution_count": null,
      "outputs": [
        {
          "output_type": "stream",
          "name": "stdout",
          "text": [
            "price           0\n",
            "year            0\n",
            "manufacturer    0\n",
            "model           0\n",
            "condition       0\n",
            "cylinders       0\n",
            "fuel            0\n",
            "odometer        0\n",
            "title_status    0\n",
            "transmission    0\n",
            "drive           0\n",
            "type            0\n",
            "paint_color     0\n",
            "state           0\n",
            "dtype: int64\n"
          ]
        }
      ]
    },
    {
      "cell_type": "code",
      "source": [
        "#Transformation of data from object type to ordinal type\n",
        "le = LabelEncoder()\n",
        "df[['manufacturer', 'model', 'condition',\n",
        "'cylinders', 'fuel', 'title_status', 'transmission',\n",
        "'drive', 'type', 'paint_color', 'state']]=df[['manufacturer', 'model', 'condition',\n",
        "'cylinders', 'fuel', 'title_status', 'transmission',\n",
        "'drive', 'type', 'paint_color', 'state']].apply(le.fit_transform)\n",
        "\n",
        "df"
      ],
      "metadata": {
        "id": "zRSGO4nO5Tgh",
        "colab": {
          "base_uri": "https://localhost:8080/",
          "height": 468
        },
        "outputId": "6cafe000-971d-4f7a-962e-01528df54024"
      },
      "execution_count": null,
      "outputs": [
        {
          "output_type": "execute_result",
          "data": {
            "text/plain": [
              "        price    year  manufacturer  model  condition  cylinders  fuel  \\\n",
              "31      15000  2013.0            13   5808          0          5     2   \n",
              "32      27990  2012.0            14  11332          2          6     2   \n",
              "33      34590  2016.0             7  11459          2          5     2   \n",
              "34      35000  2019.0            38  12245          0          5     2   \n",
              "35      29990  2016.0             7   3728          2          5     2   \n",
              "...       ...     ...           ...    ...        ...        ...   ...   \n",
              "426875  23590  2019.0            30   8672          2          5     2   \n",
              "426876  30590  2020.0            40  10884          2          5     2   \n",
              "426877  34990  2020.0             6  13941          2          5     0   \n",
              "426878  28990  2018.0            23   5288          2          5     2   \n",
              "426879  30590  2019.0             4    977          2          5     2   \n",
              "\n",
              "        odometer  title_status  transmission  drive  type  paint_color  state  \n",
              "31      128000.0             0             0      2    10            0      1  \n",
              "32       68696.0             0             2      0     8            0      1  \n",
              "33       29499.0             0             2      0     8            9      1  \n",
              "34       43000.0             0             0      0    10            5      1  \n",
              "35       17302.0             0             2      0     8            8      1  \n",
              "...          ...           ...           ...    ...   ...          ...    ...  \n",
              "426875   32226.0             0             2      1     9           10     50  \n",
              "426876   12029.0             0             2      1     9            8     50  \n",
              "426877    4174.0             0             2      1     4           10     50  \n",
              "426878   30112.0             0             2      1     9            9     50  \n",
              "426879   22716.0             0             2      2     3            9     50  \n",
              "\n",
              "[199985 rows x 14 columns]"
            ],
            "text/html": [
              "\n",
              "  <div id=\"df-2756130b-9277-4ab1-a079-74c75036de9b\">\n",
              "    <div class=\"colab-df-container\">\n",
              "      <div>\n",
              "<style scoped>\n",
              "    .dataframe tbody tr th:only-of-type {\n",
              "        vertical-align: middle;\n",
              "    }\n",
              "\n",
              "    .dataframe tbody tr th {\n",
              "        vertical-align: top;\n",
              "    }\n",
              "\n",
              "    .dataframe thead th {\n",
              "        text-align: right;\n",
              "    }\n",
              "</style>\n",
              "<table border=\"1\" class=\"dataframe\">\n",
              "  <thead>\n",
              "    <tr style=\"text-align: right;\">\n",
              "      <th></th>\n",
              "      <th>price</th>\n",
              "      <th>year</th>\n",
              "      <th>manufacturer</th>\n",
              "      <th>model</th>\n",
              "      <th>condition</th>\n",
              "      <th>cylinders</th>\n",
              "      <th>fuel</th>\n",
              "      <th>odometer</th>\n",
              "      <th>title_status</th>\n",
              "      <th>transmission</th>\n",
              "      <th>drive</th>\n",
              "      <th>type</th>\n",
              "      <th>paint_color</th>\n",
              "      <th>state</th>\n",
              "    </tr>\n",
              "  </thead>\n",
              "  <tbody>\n",
              "    <tr>\n",
              "      <th>31</th>\n",
              "      <td>15000</td>\n",
              "      <td>2013.0</td>\n",
              "      <td>13</td>\n",
              "      <td>5808</td>\n",
              "      <td>0</td>\n",
              "      <td>5</td>\n",
              "      <td>2</td>\n",
              "      <td>128000.0</td>\n",
              "      <td>0</td>\n",
              "      <td>0</td>\n",
              "      <td>2</td>\n",
              "      <td>10</td>\n",
              "      <td>0</td>\n",
              "      <td>1</td>\n",
              "    </tr>\n",
              "    <tr>\n",
              "      <th>32</th>\n",
              "      <td>27990</td>\n",
              "      <td>2012.0</td>\n",
              "      <td>14</td>\n",
              "      <td>11332</td>\n",
              "      <td>2</td>\n",
              "      <td>6</td>\n",
              "      <td>2</td>\n",
              "      <td>68696.0</td>\n",
              "      <td>0</td>\n",
              "      <td>2</td>\n",
              "      <td>0</td>\n",
              "      <td>8</td>\n",
              "      <td>0</td>\n",
              "      <td>1</td>\n",
              "    </tr>\n",
              "    <tr>\n",
              "      <th>33</th>\n",
              "      <td>34590</td>\n",
              "      <td>2016.0</td>\n",
              "      <td>7</td>\n",
              "      <td>11459</td>\n",
              "      <td>2</td>\n",
              "      <td>5</td>\n",
              "      <td>2</td>\n",
              "      <td>29499.0</td>\n",
              "      <td>0</td>\n",
              "      <td>2</td>\n",
              "      <td>0</td>\n",
              "      <td>8</td>\n",
              "      <td>9</td>\n",
              "      <td>1</td>\n",
              "    </tr>\n",
              "    <tr>\n",
              "      <th>34</th>\n",
              "      <td>35000</td>\n",
              "      <td>2019.0</td>\n",
              "      <td>38</td>\n",
              "      <td>12245</td>\n",
              "      <td>0</td>\n",
              "      <td>5</td>\n",
              "      <td>2</td>\n",
              "      <td>43000.0</td>\n",
              "      <td>0</td>\n",
              "      <td>0</td>\n",
              "      <td>0</td>\n",
              "      <td>10</td>\n",
              "      <td>5</td>\n",
              "      <td>1</td>\n",
              "    </tr>\n",
              "    <tr>\n",
              "      <th>35</th>\n",
              "      <td>29990</td>\n",
              "      <td>2016.0</td>\n",
              "      <td>7</td>\n",
              "      <td>3728</td>\n",
              "      <td>2</td>\n",
              "      <td>5</td>\n",
              "      <td>2</td>\n",
              "      <td>17302.0</td>\n",
              "      <td>0</td>\n",
              "      <td>2</td>\n",
              "      <td>0</td>\n",
              "      <td>8</td>\n",
              "      <td>8</td>\n",
              "      <td>1</td>\n",
              "    </tr>\n",
              "    <tr>\n",
              "      <th>...</th>\n",
              "      <td>...</td>\n",
              "      <td>...</td>\n",
              "      <td>...</td>\n",
              "      <td>...</td>\n",
              "      <td>...</td>\n",
              "      <td>...</td>\n",
              "      <td>...</td>\n",
              "      <td>...</td>\n",
              "      <td>...</td>\n",
              "      <td>...</td>\n",
              "      <td>...</td>\n",
              "      <td>...</td>\n",
              "      <td>...</td>\n",
              "      <td>...</td>\n",
              "    </tr>\n",
              "    <tr>\n",
              "      <th>426875</th>\n",
              "      <td>23590</td>\n",
              "      <td>2019.0</td>\n",
              "      <td>30</td>\n",
              "      <td>8672</td>\n",
              "      <td>2</td>\n",
              "      <td>5</td>\n",
              "      <td>2</td>\n",
              "      <td>32226.0</td>\n",
              "      <td>0</td>\n",
              "      <td>2</td>\n",
              "      <td>1</td>\n",
              "      <td>9</td>\n",
              "      <td>10</td>\n",
              "      <td>50</td>\n",
              "    </tr>\n",
              "    <tr>\n",
              "      <th>426876</th>\n",
              "      <td>30590</td>\n",
              "      <td>2020.0</td>\n",
              "      <td>40</td>\n",
              "      <td>10884</td>\n",
              "      <td>2</td>\n",
              "      <td>5</td>\n",
              "      <td>2</td>\n",
              "      <td>12029.0</td>\n",
              "      <td>0</td>\n",
              "      <td>2</td>\n",
              "      <td>1</td>\n",
              "      <td>9</td>\n",
              "      <td>8</td>\n",
              "      <td>50</td>\n",
              "    </tr>\n",
              "    <tr>\n",
              "      <th>426877</th>\n",
              "      <td>34990</td>\n",
              "      <td>2020.0</td>\n",
              "      <td>6</td>\n",
              "      <td>13941</td>\n",
              "      <td>2</td>\n",
              "      <td>5</td>\n",
              "      <td>0</td>\n",
              "      <td>4174.0</td>\n",
              "      <td>0</td>\n",
              "      <td>2</td>\n",
              "      <td>1</td>\n",
              "      <td>4</td>\n",
              "      <td>10</td>\n",
              "      <td>50</td>\n",
              "    </tr>\n",
              "    <tr>\n",
              "      <th>426878</th>\n",
              "      <td>28990</td>\n",
              "      <td>2018.0</td>\n",
              "      <td>23</td>\n",
              "      <td>5288</td>\n",
              "      <td>2</td>\n",
              "      <td>5</td>\n",
              "      <td>2</td>\n",
              "      <td>30112.0</td>\n",
              "      <td>0</td>\n",
              "      <td>2</td>\n",
              "      <td>1</td>\n",
              "      <td>9</td>\n",
              "      <td>9</td>\n",
              "      <td>50</td>\n",
              "    </tr>\n",
              "    <tr>\n",
              "      <th>426879</th>\n",
              "      <td>30590</td>\n",
              "      <td>2019.0</td>\n",
              "      <td>4</td>\n",
              "      <td>977</td>\n",
              "      <td>2</td>\n",
              "      <td>5</td>\n",
              "      <td>2</td>\n",
              "      <td>22716.0</td>\n",
              "      <td>0</td>\n",
              "      <td>2</td>\n",
              "      <td>2</td>\n",
              "      <td>3</td>\n",
              "      <td>9</td>\n",
              "      <td>50</td>\n",
              "    </tr>\n",
              "  </tbody>\n",
              "</table>\n",
              "<p>199985 rows × 14 columns</p>\n",
              "</div>\n",
              "      <button class=\"colab-df-convert\" onclick=\"convertToInteractive('df-2756130b-9277-4ab1-a079-74c75036de9b')\"\n",
              "              title=\"Convert this dataframe to an interactive table.\"\n",
              "              style=\"display:none;\">\n",
              "        \n",
              "  <svg xmlns=\"http://www.w3.org/2000/svg\" height=\"24px\"viewBox=\"0 0 24 24\"\n",
              "       width=\"24px\">\n",
              "    <path d=\"M0 0h24v24H0V0z\" fill=\"none\"/>\n",
              "    <path d=\"M18.56 5.44l.94 2.06.94-2.06 2.06-.94-2.06-.94-.94-2.06-.94 2.06-2.06.94zm-11 1L8.5 8.5l.94-2.06 2.06-.94-2.06-.94L8.5 2.5l-.94 2.06-2.06.94zm10 10l.94 2.06.94-2.06 2.06-.94-2.06-.94-.94-2.06-.94 2.06-2.06.94z\"/><path d=\"M17.41 7.96l-1.37-1.37c-.4-.4-.92-.59-1.43-.59-.52 0-1.04.2-1.43.59L10.3 9.45l-7.72 7.72c-.78.78-.78 2.05 0 2.83L4 21.41c.39.39.9.59 1.41.59.51 0 1.02-.2 1.41-.59l7.78-7.78 2.81-2.81c.8-.78.8-2.07 0-2.86zM5.41 20L4 18.59l7.72-7.72 1.47 1.35L5.41 20z\"/>\n",
              "  </svg>\n",
              "      </button>\n",
              "      \n",
              "  <style>\n",
              "    .colab-df-container {\n",
              "      display:flex;\n",
              "      flex-wrap:wrap;\n",
              "      gap: 12px;\n",
              "    }\n",
              "\n",
              "    .colab-df-convert {\n",
              "      background-color: #E8F0FE;\n",
              "      border: none;\n",
              "      border-radius: 50%;\n",
              "      cursor: pointer;\n",
              "      display: none;\n",
              "      fill: #1967D2;\n",
              "      height: 32px;\n",
              "      padding: 0 0 0 0;\n",
              "      width: 32px;\n",
              "    }\n",
              "\n",
              "    .colab-df-convert:hover {\n",
              "      background-color: #E2EBFA;\n",
              "      box-shadow: 0px 1px 2px rgba(60, 64, 67, 0.3), 0px 1px 3px 1px rgba(60, 64, 67, 0.15);\n",
              "      fill: #174EA6;\n",
              "    }\n",
              "\n",
              "    [theme=dark] .colab-df-convert {\n",
              "      background-color: #3B4455;\n",
              "      fill: #D2E3FC;\n",
              "    }\n",
              "\n",
              "    [theme=dark] .colab-df-convert:hover {\n",
              "      background-color: #434B5C;\n",
              "      box-shadow: 0px 1px 3px 1px rgba(0, 0, 0, 0.15);\n",
              "      filter: drop-shadow(0px 1px 2px rgba(0, 0, 0, 0.3));\n",
              "      fill: #FFFFFF;\n",
              "    }\n",
              "  </style>\n",
              "\n",
              "      <script>\n",
              "        const buttonEl =\n",
              "          document.querySelector('#df-2756130b-9277-4ab1-a079-74c75036de9b button.colab-df-convert');\n",
              "        buttonEl.style.display =\n",
              "          google.colab.kernel.accessAllowed ? 'block' : 'none';\n",
              "\n",
              "        async function convertToInteractive(key) {\n",
              "          const element = document.querySelector('#df-2756130b-9277-4ab1-a079-74c75036de9b');\n",
              "          const dataTable =\n",
              "            await google.colab.kernel.invokeFunction('convertToInteractive',\n",
              "                                                     [key], {});\n",
              "          if (!dataTable) return;\n",
              "\n",
              "          const docLinkHtml = 'Like what you see? Visit the ' +\n",
              "            '<a target=\"_blank\" href=https://colab.research.google.com/notebooks/data_table.ipynb>data table notebook</a>'\n",
              "            + ' to learn more about interactive tables.';\n",
              "          element.innerHTML = '';\n",
              "          dataTable['output_type'] = 'display_data';\n",
              "          await google.colab.output.renderOutput(dataTable, element);\n",
              "          const docLink = document.createElement('div');\n",
              "          docLink.innerHTML = docLinkHtml;\n",
              "          element.appendChild(docLink);\n",
              "        }\n",
              "      </script>\n",
              "    </div>\n",
              "  </div>\n",
              "  "
            ]
          },
          "metadata": {},
          "execution_count": 28
        }
      ]
    },
    {
      "cell_type": "code",
      "source": [
        "y2= df['price']\n",
        "x2= df.drop(['price'],axis=1)\n",
        "x2train, x2test, y2train, y2test = train_test_split(x2, y2, test_size = 0.3, random_state = 45)"
      ],
      "metadata": {
        "id": "rBjjWC2sRdr3"
      },
      "execution_count": null,
      "outputs": []
    },
    {
      "cell_type": "markdown",
      "source": [
        "# **MODELS' ANALISYS**"
      ],
      "metadata": {
        "id": "Yp9ETNfWTGn1"
      }
    },
    {
      "cell_type": "markdown",
      "source": [
        "# MODELS' FUNCTION"
      ],
      "metadata": {
        "id": "cfeWtmVPCgI8"
      }
    },
    {
      "cell_type": "code",
      "source": [
        "def SVR_model(xtrain,xtest,ytrain, ytest):\n",
        "  svr = SVR(cache_size=7000)\n",
        "  svr.fit(xtrain,ytrain)\n",
        "  pred_train_svr=svr.predict(xtrain)\n",
        "  pred_test_svr=svr.predict(xtest)\n",
        "  svrScore=svr.score(xtrain,ytrain)\n",
        "  svrR2Score=r2_score(ytest,pred_test_svr)\n",
        "  svrMAE=mean_absolute_error(ytest,pred_test_svr)\n",
        "  svrMSE=mean_squared_error(ytest,pred_test_svr)\n",
        "  svrRMSE=np.sqrt(svrMSE)\n",
        "  print('SVR Regressor Score:',svrScore)\n",
        "  print('SVR Regressor r2_score:',svrR2Score)\n",
        "  print(\"Mean absolute error of SVR Regressor:\",svrMAE)\n",
        "  print(\"Mean squared error of SVR Regressor:\",svrMSE)\n",
        "  print(\"Root Mean Square error of SVR Regressor:\",svrRMSE)\n",
        "  plt.scatter(ytest, pred_test_svr)\n",
        "  plt.xlabel(\"Actual Price\")\n",
        "  plt.ylabel(\"Predicted Price\")\n",
        "  plt.title(\" Actual Prices vs Predicted Prices\")\n",
        "  plt.show()\n",
        "  return svr, pred_test_svr\n",
        "\n",
        "def LinearRegressionModel(xtrain, xtest,ytrain, ytest):\n",
        "  lr= LinearRegression()\n",
        "  lr.fit(xtrain,ytrain)\n",
        "  lr.coef_\n",
        "  pred_train=lr.predict(xtrain)\n",
        "  pred_test=lr.predict(xtest)\n",
        "  print('\\n\\nLinear Regression Score:',lr.score(xtrain,ytrain))\n",
        "  print('Linear Regression r2_score:',r2_score(ytest,pred_test))\n",
        "  print(\"Mean absolute error of Linear Regressor:\",mean_absolute_error(ytest,pred_test))\n",
        "  print(\"Mean squared error of Linear Regression:\",mean_squared_error(ytest,pred_test))\n",
        "  print(\"Root Mean Square error of Linear Regression:\",np.sqrt(mean_squared_error(ytest,pred_test)))\n",
        "  plt.scatter(ytest, pred_test)\n",
        "  plt.xlabel(\"Actual Price\")\n",
        "  plt.ylabel(\"Predicted Price\")\n",
        "  plt.title(\" Actual Prices vs Predicted Prices --- Linear regression\")\n",
        "  plt.show()\n",
        "  return lr, pred_test\n",
        "\n",
        "def KNR_model(xtrain, xtest,ytrain, ytest):\n",
        " knr = KNeighborsRegressor()\n",
        " knr.fit(xtrain,ytrain)\n",
        " pred_train_knr=knr.predict(xtrain)\n",
        " pred_test_knr=knr.predict(xtest)\n",
        " print('\\n\\nK Neighbors Regressor Score:',knr.score(xtrain,ytrain))\n",
        " print('K Neighbors Regressor r2_score:',r2_score(ytest,pred_test_knr))\n",
        " print(\"Mean absolute error of K Neighbors Regressorr:\",mean_absolute_error(ytest,pred_test_knr))\n",
        " print(\"Mean squared error of K Neighbors Regressor:\",mean_squared_error(ytest,pred_test_knr))\n",
        " print(\"Root Mean Square error of K Neighbors Regressor:\",np.sqrt(mean_squared_error(ytest,pred_test_knr)))\n",
        " plt.scatter(ytest, pred_test_knr)\n",
        " plt.xlabel(\"Actual Price\")\n",
        " plt.ylabel(\"Predicted Price\")\n",
        " plt.title(\" Actual Prices vs Predicted Prices --- KNR\")\n",
        " plt.show()\n",
        " return knr, pred_test_knr\n",
        "\n",
        "def SGDR_model(xtrain, xtest,ytrain, ytest):\n",
        " sgd=SGDRegressor()\n",
        " sgd.fit(xtrain,ytrain)\n",
        " pred_train_sgd=sgd.predict(xtrain)\n",
        " pred_test_sgd=sgd.predict(xtest)\n",
        " print('\\n\\nSGD Regressor Score:',sgd.score(xtrain,ytrain))\n",
        " print('SGD Regressor r2_score:',r2_score(ytest,pred_test_sgd))\n",
        " print(\"Mean absolute error of SGD Regressor:\",mean_absolute_error(ytest,pred_test_sgd))\n",
        " print(\"Mean squared error of SGD Regressor:\",mean_squared_error(ytest,pred_test_sgd))\n",
        " print(\"Root Mean Square error of SGD Regressor:\",np.sqrt(mean_squared_error(ytest,pred_test_sgd)))\n",
        " plt.scatter(ytest, pred_test_sgd)\n",
        " plt.xlabel(\"Actual Price\")\n",
        " plt.ylabel(\"Predicted Price\")\n",
        " plt.title(\" Actual Prices vs Predicted Prices --- SGD Regression\")\n",
        " plt.show()\n",
        " return sgd, pred_test_sgd\n",
        "\n",
        "def DTR_model(xtrain, xtest, ytrain, ytest):\n",
        " dtr=DecisionTreeRegressor(criterion='squared_error')\n",
        " dtr.fit(xtrain,ytrain)\n",
        " pred_train_dtr=dtr.predict(xtrain)\n",
        " pred_test_dtr=dtr.predict(xtest)\n",
        " print('\\n\\nDecision Tree Regressor Score:',dtr.score(xtrain,ytrain))\n",
        " print('Decision Tree Regressor r2_score:',r2_score(ytest,pred_test_dtr))\n",
        " print(\"Mean absolute error of Decision Tree Regressor:\",mean_absolute_error(ytest,pred_test_dtr))\n",
        " print(\"Mean squared error of Decision Tree Regressor:\",mean_squared_error(ytest,pred_test_dtr))\n",
        " print(\"Root Mean Square error of Decision Tree Regressor:\",np.sqrt(mean_squared_error(ytest,pred_test_dtr)))\n",
        " plt.scatter(ytest, pred_test_dtr)\n",
        " plt.xlabel(\"Actual Price\")\n",
        " plt.ylabel(\"Predicted Price\")\n",
        " plt.title(\" Actual Prices vs Predicted Prices --- Decision tree regressor\")\n",
        " plt.show()\n",
        " return dtr, pred_test_dtr\n",
        "\n",
        "def RFR_model(xtrain, xtest, ytrain, ytest):\n",
        " rf=RandomForestRegressor()\n",
        " rf.fit(xtrain,ytrain)\n",
        " pred_train_rf=rf.predict(xtrain)\n",
        " pred_test_rf=rf.predict(xtest)\n",
        " print('\\n\\nRandom Forest Regressor Score:',rf.score(xtrain,ytrain))\n",
        " print('Random Forest Regressor r2_score:',r2_score(ytest,pred_test_rf))\n",
        " print(\"Mean absolute error of Random Forest Regressor:\",mean_absolute_error(ytest,pred_test_rf))\n",
        " print(\"Mean squared error of Random Forest Regressor:\",mean_squared_error(ytest,pred_test_rf))\n",
        " print(\"Root Mean Square error of Random Forest Regressor:\",np.sqrt(mean_squared_error(ytest,pred_test_rf)))\n",
        " plt.scatter(ytest, pred_test_rf)\n",
        " plt.xlabel(\"Actual Price\")\n",
        " plt.ylabel(\"Predicted Price\")\n",
        " plt.title(\" Actual Prices vs Predicted Prices --- Random forest\")\n",
        " plt.show()\n",
        " return rf, pred_test_rf\n",
        "\n",
        "def ANN_model(xtrain, xtest, ytrain, ytest):\n",
        " from keras.models import Sequential\n",
        " from keras.layers import Dense\n",
        " \n",
        " # create ANN model\n",
        " model = Sequential()\n",
        " \n",
        " # Defining the Input layer and FIRST hidden layer, both are same!\n",
        " model.add(Dense(units=5, input_dim=13, kernel_initializer='normal', activation='relu'))\n",
        " \n",
        " # Defining the Second layer of the model\n",
        " # after the first layer we don't have to specify input_dim as keras configure it automatically\n",
        " model.add(Dense(units=5, kernel_initializer='normal', activation='tanh'))\n",
        " \n",
        " # The output neuron is a single fully connected node \n",
        " # Since we will be predicting a single number\n",
        " model.add(Dense(1, kernel_initializer='normal'))\n",
        " \n",
        " # Compiling the model\n",
        " model.compile(loss='mean_squared_error', optimizer='adam')\n",
        " \n",
        " # Fitting the ANN to the Training set\n",
        " model.fit(xtrain, ytrain ,batch_size = 20, epochs = 50, verbose=1)\n",
        "\n",
        " pred_train_ann=model.predict(xtrain)\n",
        " pred_test_ann=model.predict(xtest)\n",
        " print('\\n\\nNeural Networck Score:',model.evaluate(xtrain,ytrain))\n",
        " print('Neural Networck r2_score:',r2_score(ytest,pred_test_ann))\n",
        " print(\"Mean absolute error of Neural Networck:\",mean_absolute_error(ytest,pred_test_ann))\n",
        " print(\"Mean squared error of Neural Networck:\",mean_squared_error(ytest,pred_test_ann))\n",
        " print(\"Root Mean Square error of Neural Networck:\",np.sqrt(mean_squared_error(ytest,pred_test_ann)))\n",
        " plt.scatter(ytest, pred_test_ann)\n",
        " plt.xlabel(\"Actual Price\")\n",
        " plt.ylabel(\"Predicted Price\")\n",
        " plt.title(\" Actual Prices vs Predicted Prices --- Neural Network\")\n",
        " plt.show()\n",
        " return model, pred_test_ann"
      ],
      "metadata": {
        "id": "mi__ecuA07yc"
      },
      "execution_count": null,
      "outputs": []
    },
    {
      "cell_type": "code",
      "source": [
        "def compareScoreModel(xtrain,ytrain,ytest,svr,pred_test_svr,lr,pred_test,sgd,pred_test_sgd,knr,pred_test_knr\n",
        "                      ,dtr,pred_test_dtr, rf, pred_test_rf):\n",
        " compareModel = PrettyTable()\n",
        " compareModel.field_names = [\"Model\", \"R2 score on training set\", \"R2 score on test set\", \n",
        " \"Mean absolute error\", \"Mean squared error\", \"Root mean squared error\"]\n",
        " compareModel.add_row([\"SVR\", \"{:.3f}\".format(svr.score(xtrain,ytrain)), \"{:.3f}\".format(r2_score(ytest,pred_test_svr)),\n",
        " \"{:.3f}\".format(mean_absolute_error(ytest,pred_test_svr)), \"{:.3f}\".format(mean_squared_error(ytest,pred_test_svr)),\n",
        " \"{:.3f}\".format(np.sqrt(mean_squared_error(ytest,pred_test_svr)))])\n",
        "\n",
        " compareModel.add_row([\"Linear Regression\", \"{:.3f}\".format(lr.score(xtrain,ytrain)), \"{:.3f}\".format(r2_score(ytest,pred_test)),\n",
        " \"{:.3f}\".format(mean_absolute_error(ytest,pred_test)), \"{:.3f}\".format(mean_squared_error(ytest,pred_test)),\n",
        " \"{:.3f}\".format(np.sqrt(mean_squared_error(ytest,pred_test)))])\n",
        "\n",
        " compareModel.add_row([\"SGD Regressor\", \"{:.3f}\".format(sgd.score(xtrain,ytrain)),\"{:.3f}\".format(r2_score(ytest,pred_test_sgd)),\n",
        " \"{:.3f}\".format(mean_absolute_error(ytest,pred_test_sgd)),\"{:.3f}\".format(mean_squared_error(ytest,pred_test_sgd)),\n",
        " \"{:.3f}\".format(np.sqrt(mean_squared_error(ytest,pred_test_sgd)))])\n",
        "\n",
        " compareModel.add_row([\"K Neighbors Regressor\", \"{:.3f}\".format(knr.score(xtrain,ytrain)),\"{:.3f}\".format(r2_score(ytest,pred_test_knr)),\n",
        " \"{:.3f}\".format(mean_absolute_error(ytest,pred_test_knr)),\"{:.3f}\".format(mean_squared_error(ytest,pred_test_knr)),\n",
        " \"{:.3f}\".format(np.sqrt(mean_squared_error(ytest,pred_test_knr)))])\n",
        "\n",
        " compareModel.add_row([\"Decision Tree Regressor\", \"{:.3f}\".format(dtr.score(xtrain,ytrain)),\"{:.3f}\".format(r2_score(ytest,pred_test_dtr)),\n",
        " \"{:.3f}\".format(mean_absolute_error(ytest,pred_test_dtr)),\"{:.3f}\".format(mean_squared_error(ytest,pred_test_dtr)),\n",
        " \"{:.3f}\".format(np.sqrt(mean_squared_error(ytest,pred_test_dtr)))])\n",
        "\n",
        " compareModel.add_row([\"Random Forest Regressor\", \"{:.3f}\".format(rf.score(xtrain,ytrain)),\"{:.3f}\".format(r2_score(ytest,pred_test_rf)),\n",
        " \"{:.3f}\".format(mean_absolute_error(ytest,pred_test_rf)),\"{:.3f}\".format(mean_squared_error(ytest,pred_test_rf)),\n",
        " \"{:.3f}\".format(np.sqrt(mean_squared_error(ytest,pred_test_rf)))])\n",
        " return compareModel\n",
        "\n",
        "def compareScoreModel2(xtrain,ytrain,ytest,lr,pred_test,sgd,pred_test_sgd,knr,pred_test_knr\n",
        "                      ,dtr,pred_test_dtr, rf, pred_test_rf):\n",
        " compareModel = PrettyTable()\n",
        " compareModel.field_names = [\"Model\", \"R2 score on training set\", \"R2 score on test set\", \n",
        " \"Mean absolute error\", \"Mean squared error\", \"Root mean squared error\"]\n",
        "\n",
        " compareModel.add_row([\"Linear Regression\", \"{:.3f}\".format(lr.score(xtrain,ytrain)), \"{:.3f}\".format(r2_score(ytest,pred_test)),\n",
        " \"{:.3f}\".format(mean_absolute_error(ytest,pred_test)), \"{:.3f}\".format(mean_squared_error(ytest,pred_test)),\n",
        " \"{:.3f}\".format(np.sqrt(mean_squared_error(ytest,pred_test)))])\n",
        "\n",
        " compareModel.add_row([\"SGD Regressor\", \"{:.3f}\".format(sgd.score(xtrain,ytrain)),\"{:.3f}\".format(r2_score(ytest,pred_test_sgd)),\n",
        " \"{:.3f}\".format(mean_absolute_error(ytest,pred_test_sgd)),\"{:.3f}\".format(mean_squared_error(ytest,pred_test_sgd)),\n",
        " \"{:.3f}\".format(np.sqrt(mean_squared_error(ytest,pred_test_sgd)))])\n",
        "\n",
        " compareModel.add_row([\"K Neighbors Regressor\", \"{:.3f}\".format(knr.score(xtrain,ytrain)),\"{:.3f}\".format(r2_score(ytest,pred_test_knr)),\n",
        " \"{:.3f}\".format(mean_absolute_error(ytest,pred_test_knr)),\"{:.3f}\".format(mean_squared_error(ytest,pred_test_knr)),\n",
        " \"{:.3f}\".format(np.sqrt(mean_squared_error(ytest,pred_test_knr)))])\n",
        "\n",
        " compareModel.add_row([\"Decision Tree Regressor\", \"{:.3f}\".format(dtr.score(xtrain,ytrain)),\"{:.3f}\".format(r2_score(ytest,pred_test_dtr)),\n",
        " \"{:.3f}\".format(mean_absolute_error(ytest,pred_test_dtr)),\"{:.3f}\".format(mean_squared_error(ytest,pred_test_dtr)),\n",
        " \"{:.3f}\".format(np.sqrt(mean_squared_error(ytest,pred_test_dtr)))])\n",
        "\n",
        " compareModel.add_row([\"Random Forest Regressor\", \"{:.3f}\".format(rf.score(xtrain,ytrain)),\"{:.3f}\".format(r2_score(ytest,pred_test_rf)),\n",
        " \"{:.3f}\".format(mean_absolute_error(ytest,pred_test_rf)),\"{:.3f}\".format(mean_squared_error(ytest,pred_test_rf)),\n",
        " \"{:.3f}\".format(np.sqrt(mean_squared_error(ytest,pred_test_rf)))])\n",
        " return compareModel\n",
        "\n",
        "def compareModelOnDataSet(title, y1test, y2test, pred_test_model1, pred_test_model2):\n",
        " compareModel = PrettyTable()\n",
        " compareModel.field_names = [\"Model\", \"R2 score on test set\", \n",
        " \"Mean absolute error\", \"Mean squared error\", \"Root mean squared error\"]\n",
        " compareModel.add_row([title[0], \"{:.3f}\".format(r2_score(y1test,pred_test_model1)),\n",
        " \"{:.3f}\".format(mean_absolute_error(y1test,pred_test_model1)), \"{:.3f}\".format(mean_squared_error(y1test,pred_test_model1)),\n",
        " \"{:.3f}\".format(np.sqrt(mean_squared_error(y1test,pred_test_model1)))])\n",
        " compareModel.add_row([title[1], \"{:.3f}\".format(r2_score(y2test,pred_test_model2)),\n",
        " \"{:.3f}\".format(mean_absolute_error(y2test,pred_test_model2)), \"{:.3f}\".format(mean_squared_error(y2test,pred_test_model2)),\n",
        " \"{:.3f}\".format(np.sqrt(mean_squared_error(y2test,pred_test_model2)))])\n",
        " return compareModel\n"
      ],
      "metadata": {
        "id": "cX7EutxQ5PKp"
      },
      "execution_count": null,
      "outputs": []
    },
    {
      "cell_type": "code",
      "source": [
        "#K FOLD CROSS VALIDATION\n",
        "def crossValidation(x, y, svr, lr, sgd, knr, dtr, rf):\n",
        " compareCrossValidation = PrettyTable()\n",
        " compareCrossValidation.field_names = [\"Model\", \"Cross Validation Score\"]\n",
        " compareCrossValidation.add_row([\"SVR\", \"{:.3f}\".format((cvs(svr,x,y,cv=5).mean())*100)])\n",
        " compareCrossValidation.add_row([\"Linear Regression\", \"{:.3f}\".format((cvs(lr,x,y,cv=5).mean())*100)])\n",
        " compareCrossValidation.add_row([\"SGD Regressor\", \"{:.3f}\".format((cvs(sgd,x,y,cv=5).mean())*100)])\n",
        " compareCrossValidation.add_row([\"K Neighbors Regressor\", \"{:.3f}\".format((cvs(knr,x,y,cv=5).mean())*100)])\n",
        " compareCrossValidation.add_row([\"Decision Tree Regressor\", \"{:.3f}\".format((cvs(dtr,x,y,cv=5).mean())*100)])\n",
        " compareCrossValidation.add_row([\"Random Forest Regressor\", \"{:.3f}\".format((cvs(rf,x,y,cv=5).mean())*100)])\n",
        " return compareCrossValidation"
      ],
      "metadata": {
        "id": "PTgz3hHO8UrF"
      },
      "execution_count": null,
      "outputs": []
    },
    {
      "cell_type": "code",
      "source": [
        "#HYPERPARAMETER TUNING\n",
        "def hpTuningRf(xtrain, ytrain):\n",
        " print(\"\\nHyper parameter tuning:\")\n",
        " parameter = { 'bootstrap': [True, False],\n",
        "  'max_features': ['sqrt', 'log2'],\n",
        "  'min_samples_leaf': [1, 2, 4],\n",
        "  'min_samples_split': [2, 5, 10],}\n",
        "\n",
        " gvc = GridSearchCV(RandomForestRegressor(),parameter,cv=5)\n",
        " gvc.fit(xtrain,ytrain)\n",
        " print(\"Best parameter for Random Forest Regressor:\\n\")\n",
        " print(gvc.best_params_)\n",
        "\n",
        "def hpTunintSvm(xtrain,ytrain):\n",
        " param = {'kernel' : ('linear', 'poly', 'rbf', 'sigmoid'),\n",
        " 'C' : [1,5,10],\n",
        " 'degree' : [3,8],\n",
        " 'coef0' : [0.01,10,0.5],\n",
        " 'gamma' : ('auto','scale')}\n",
        "\n",
        " grids = GridSearchCV(SVR(),param,cv = 3,n_jobs = -1, verbose = 2)\n",
        " grids.fit(xtrain,ytrain)\n",
        " print(\"Best parameter for Support Vector Regressor:\\n\")\n",
        " print(grids.best_params_)"
      ],
      "metadata": {
        "id": "QC-VGiMp976c"
      },
      "execution_count": null,
      "outputs": []
    },
    {
      "cell_type": "markdown",
      "source": [
        "# MODELS TRAIN"
      ],
      "metadata": {
        "id": "HKkhap6lh2DF"
      }
    },
    {
      "cell_type": "code",
      "source": [
        "#Models trained on 1st dataset\n",
        "print(\"Models trained on first dataSet\\n\")\n",
        "svr1, predSvr1 = SVR_model(x1train,x1test, y1train, y1test)\n",
        "lr1, predLr1 = LinearRegressionModel(x1train, x1test,y1train, y1test)\n",
        "knr1, predKnr1 = KNR_model(x1train,x1test, y1train, y1test)\n",
        "sgd1, predSgd1 = SGDR_model(x1train,x1test, y1train, y1test)\n",
        "dtr1, predDtr1 = DTR_model(x1train,x1test, y1train, y1test)\n",
        "rf1, predRf1 = RFR_model(x1train,x1test, y1train, y1test)"
      ],
      "metadata": {
        "id": "B-mJw3cPxApv",
        "colab": {
          "base_uri": "https://localhost:8080/",
          "height": 1000
        },
        "outputId": "c935ecdb-4195-4142-8a8d-f90a896b88d6"
      },
      "execution_count": null,
      "outputs": [
        {
          "output_type": "stream",
          "name": "stdout",
          "text": [
            "Models trained on first dataSet\n",
            "\n",
            "SVR Regressor Score: -0.06325370730174851\n",
            "SVR Regressor r2_score: -0.06820672247987791\n",
            "Mean absolute error of SVR Regressor: 271198.4321420298\n",
            "Mean squared error of SVR Regressor: 297284446193.9865\n",
            "Root Mean Square error of SVR Regressor: 545237.9720764012\n"
          ]
        },
        {
          "output_type": "display_data",
          "data": {
            "text/plain": [
              "<Figure size 432x288 with 1 Axes>"
            ],
            "image/png": "[encoded data removed]"
          },
          "metadata": {
            "needs_background": "light"
          }
        },
        {
          "output_type": "stream",
          "name": "stdout",
          "text": [
            "\n",
            "\n",
            "Linear Regression Score: 0.055020586349048384\n",
            "Linear Regression r2_score: 0.061364713139148486\n",
            "Mean absolute error of Linear Regressor: 297255.7327343899\n",
            "Mean squared error of Linear Regression: 261224410556.7481\n",
            "Root Mean Square error of Linear Regression: 511101.1744818712\n"
          ]
        },
        {
          "output_type": "display_data",
          "data": {
            "text/plain": [
              "<Figure size 432x288 with 1 Axes>"
            ],
            "image/png": "[encoded data removed]"
          },
          "metadata": {
            "needs_background": "light"
          }
        },
        {
          "output_type": "stream",
          "name": "stdout",
          "text": [
            "\n",
            "\n",
            "K Neighbors Regressor Score: 0.748169225500505\n",
            "K Neighbors Regressor r2_score: 0.6045261241639399\n",
            "Mean absolute error of K Neighbors Regressorr: 198276.38798679868\n",
            "Mean squared error of K Neighbors Regressor: 110061310875.45856\n",
            "Root Mean Square error of K Neighbors Regressor: 331754.89578220027\n"
          ]
        },
        {
          "output_type": "display_data",
          "data": {
            "text/plain": [
              "<Figure size 432x288 with 1 Axes>"
            ],
            "image/png": "[encoded data removed]"
          },
          "metadata": {
            "needs_background": "light"
          }
        },
        {
          "output_type": "stream",
          "name": "stdout",
          "text": [
            "\n",
            "\n",
            "SGD Regressor Score: 0.054434392335061976\n",
            "SGD Regressor r2_score: 0.06088100468637836\n",
            "Mean absolute error of SGD Regressor: 295957.34014847013\n",
            "Mean squared error of SGD Regressor: 261359027758.15207\n",
            "Root Mean Square error of SGD Regressor: 511232.85082059435\n"
          ]
        },
        {
          "output_type": "display_data",
          "data": {
            "text/plain": [
              "<Figure size 432x288 with 1 Axes>"
            ],
            "image/png": "[encoded data removed]"
          },
          "metadata": {
            "needs_background": "light"
          }
        },
        {
          "output_type": "stream",
          "name": "stdout",
          "text": [
            "\n",
            "\n",
            "Decision Tree Regressor Score: 0.9979397374843745\n",
            "Decision Tree Regressor r2_score: 0.8086857263248622\n",
            "Mean absolute error of Decision Tree Regressor: 77560.42772277228\n",
            "Mean squared error of Decision Tree Regressor: 53243212855.355774\n",
            "Root Mean Square error of Decision Tree Regressor: 230744.90862282482\n"
          ]
        },
        {
          "output_type": "display_data",
          "data": {
            "text/plain": [
              "<Figure size 432x288 with 1 Axes>"
            ],
            "image/png": "[encoded data removed]"
          },
          "metadata": {
            "needs_background": "light"
          }
        },
        {
          "output_type": "stream",
          "name": "stdout",
          "text": [
            "\n",
            "\n",
            "Random Forest Regressor Score: 0.9823087709446942\n",
            "Random Forest Regressor r2_score: 0.8834464800438157\n",
            "Mean absolute error of Random Forest Regressor: 87240.37396551085\n",
            "Mean squared error of Random Forest Regressor: 32437119054.721844\n",
            "Root Mean Square error of Random Forest Regressor: 180103.0789706879\n"
          ]
        },
        {
          "output_type": "display_data",
          "data": {
            "text/plain": [
              "<Figure size 432x288 with 1 Axes>"
            ],
            "image/png": "[encoded data removed]"
          },
          "metadata": {
            "needs_background": "light"
          }
        }
      ]
    },
    {
      "cell_type": "code",
      "source": [
        "#Models trained on 2nd dataset\n",
        "print(\"Models trained on second dataSet\")\n",
        "\n",
        "lr2, predLr2 = LinearRegressionModel(x2train, x2test,y2train, y2test)\n",
        "knr2, predKnr2 = KNR_model(x2train,x2test, y2train, y2test)\n",
        "sgd2, predSgd2 = SGDR_model(x2train,x2test, y2train, y2test)\n",
        "dtr2, predDtr2 = DTR_model(x2train,x2test, y2train, y2test)\n",
        "rf2, predRf2 = RFR_model(x2train,x2test, y2train, y2test)\n"
      ],
      "metadata": {
        "colab": {
          "base_uri": "https://localhost:8080/",
          "height": 1000
        },
        "id": "F8FqVNLUdyA6",
        "outputId": "eeae8e00-a97e-4f38-bbeb-cbf1fc91b8cd"
      },
      "execution_count": null,
      "outputs": [
        {
          "output_type": "stream",
          "name": "stdout",
          "text": [
            "Models trained on second dataSet\n",
            "\n",
            "\n",
            "Linear Regression Score: 0.5254535170139525\n",
            "Linear Regression r2_score: 0.5234859854486539\n",
            "Mean absolute error of Linear Regressor: 5388.143721885424\n",
            "Mean squared error of Linear Regression: 49342469.12361189\n",
            "Root Mean Square error of Linear Regression: 7024.419486591892\n"
          ]
        },
        {
          "output_type": "display_data",
          "data": {
            "text/plain": [
              "<Figure size 432x288 with 1 Axes>"
            ],
            "image/png": "[encoded data removed]"
          },
          "metadata": {
            "needs_background": "light"
          }
        },
        {
          "output_type": "stream",
          "name": "stdout",
          "text": [
            "\n",
            "\n",
            "K Neighbors Regressor Score: 0.8098253059053128\n",
            "K Neighbors Regressor r2_score: 0.6997127822601594\n",
            "Mean absolute error of K Neighbors Regressorr: 3499.6630375358363\n",
            "Mean squared error of K Neighbors Regressor: 31094390.337069143\n",
            "Root Mean Square error of K Neighbors Regressor: 5576.234422714771\n"
          ]
        },
        {
          "output_type": "display_data",
          "data": {
            "text/plain": [
              "<Figure size 432x288 with 1 Axes>"
            ],
            "image/png": "[encoded data removed]"
          },
          "metadata": {
            "needs_background": "light"
          }
        },
        {
          "output_type": "stream",
          "name": "stdout",
          "text": [
            "\n",
            "\n",
            "SGD Regressor Score: -2.9445846753846723e+28\n",
            "SGD Regressor r2_score: -2.9539789517494166e+28\n",
            "Mean absolute error of SGD Regressor: 1.331913386973545e+18\n",
            "Mean squared error of SGD Regressor: 3.0588106701484894e+36\n",
            "Root Mean Square error of SGD Regressor: 1.7489455881040123e+18\n"
          ]
        },
        {
          "output_type": "display_data",
          "data": {
            "text/plain": [
              "<Figure size 432x288 with 1 Axes>"
            ],
            "image/png": "[encoded data removed]"
          },
          "metadata": {
            "needs_background": "light"
          }
        },
        {
          "output_type": "stream",
          "name": "stdout",
          "text": [
            "\n",
            "\n",
            "Decision Tree Regressor Score: 0.9999443872449817\n",
            "Decision Tree Regressor r2_score: 0.8062154344826087\n",
            "Mean absolute error of Decision Tree Regressor: 2281.482506342775\n",
            "Mean squared error of Decision Tree Regressor: 20066165.2095945\n",
            "Root Mean Square error of Decision Tree Regressor: 4479.527342208607\n"
          ]
        },
        {
          "output_type": "display_data",
          "data": {
            "text/plain": [
              "<Figure size 432x288 with 1 Axes>"
            ],
            "image/png": "[encoded data removed]"
          },
          "metadata": {
            "needs_background": "light"
          }
        },
        {
          "output_type": "stream",
          "name": "stdout",
          "text": [
            "\n",
            "\n",
            "Random Forest Regressor Score: 0.9861138035946124\n",
            "Random Forest Regressor r2_score: 0.8993195405315675\n",
            "Mean absolute error of Random Forest Regressor: 1792.3294270435952\n",
            "Mean squared error of Random Forest Regressor: 10425343.87440747\n",
            "Root Mean Square error of Random Forest Regressor: 3228.8301092512547\n"
          ]
        },
        {
          "output_type": "display_data",
          "data": {
            "text/plain": [
              "<Figure size 432x288 with 1 Axes>"
            ],
            "image/png": "[encoded data removed]"
          },
          "metadata": {
            "needs_background": "light"
          }
        }
      ]
    },
    {
      "cell_type": "code",
      "source": [
        "# svr2, predSvr2 = SVR_model(x2train,x2test, y2train, y2test)"
      ],
      "metadata": {
        "id": "rHyIZdMv43d_"
      },
      "execution_count": null,
      "outputs": []
    },
    {
      "cell_type": "markdown",
      "source": [
        "# MODELS' EVALUATION"
      ],
      "metadata": {
        "id": "MouVADnOjurB"
      }
    },
    {
      "cell_type": "markdown",
      "source": [
        "**Compare models**"
      ],
      "metadata": {
        "id": "9vBV2I-ynSgf"
      }
    },
    {
      "cell_type": "code",
      "source": [
        "#svrTitle = [\"SVR trained on 1st dataset\", \"SVR trained on 2nd dataset\"]\n",
        "#compareModelOnDataSet(svrTitle, y1test, y2test, predSvr1, predSvr2)"
      ],
      "metadata": {
        "id": "wA5f2ohF4vZS"
      },
      "execution_count": null,
      "outputs": []
    },
    {
      "cell_type": "code",
      "source": [
        "print(\"Models' scores trained on 1st dataset:\")\n",
        "print(compareScoreModel(x1train,y1train, y1test, svr1, predSvr1,lr1, predLr1,sgd1, predSgd1,knr1, predKnr1,\n",
        "                  dtr1, predDtr1,rf1, predRf1))\n",
        "print(\"\\nModels' scores trained on 2nd dataset:\")  \n",
        "print(compareScoreModel2(x2train,y2train, y2test, lr2, predLr2,sgd2, predSgd2,knr2, predKnr2,\n",
        "                  dtr2, predDtr2,rf2, predRf2))\n",
        "\n",
        "print(\"\\n\\nCompare models trained on 1st dataset with models trained on 2nd dataset:\")\n",
        "\n",
        "lrTitle = [\"Linear regression trained on 1st dataset\", \"Linear regression trained on 2nd dataset\"]\n",
        "print(compareModelOnDataSet(lrTitle, y1test, y2test, predLr1, predLr2))\n",
        "\n",
        "sgdTitle = [\"SGD regressor trained on 1st dataset\", \"SGD regressor trained on 2nd dataset\"]\n",
        "print(compareModelOnDataSet(sgdTitle, y1test, y2test, predSgd1, predSgd2))\n",
        "\n",
        "knrTitle = [\"KNR trained on 1st dataset\", \"KNR trained on 2nd dataset\"]\n",
        "print(compareModelOnDataSet(knrTitle, y1test, y2test, predKnr1, predKnr2))\n",
        "\n",
        "dtrTitle = [\"Decision tree trained on 1st dataset\", \"Decision tree trained on 2nd dataset\"]\n",
        "print(compareModelOnDataSet(dtrTitle, y1test, y2test, predDtr1, predDtr2))\n",
        "\n",
        "rfrTitle = [\"Random forest trained on 1st dataset\", \"Random forest trained on 2nd dataset\"]\n",
        "print(compareModelOnDataSet(rfrTitle, y1test, y2test, predRf1, predRf2))"
      ],
      "metadata": {
        "id": "R42dsBl270m6",
        "outputId": "bf6c98a6-bbef-4e76-df8f-d65836cf8ff4",
        "colab": {
          "base_uri": "https://localhost:8080/"
        }
      },
      "execution_count": null,
      "outputs": [
        {
          "output_type": "stream",
          "name": "stdout",
          "text": [
            "Models' scores trained on 1st dataset:\n",
            "+-------------------------+--------------------------+----------------------+---------------------+--------------------+-------------------------+\n",
            "|          Model          | R2 score on training set | R2 score on test set | Mean absolute error | Mean squared error | Root mean squared error |\n",
            "+-------------------------+--------------------------+----------------------+---------------------+--------------------+-------------------------+\n",
            "|           SVR           |          -0.063          |        -0.068        |      271198.432     |  297284446193.987  |        545237.972       |\n",
            "|    Linear Regression    |          0.055           |        0.061         |      297255.733     |  261224410556.748  |        511101.174       |\n",
            "|      SGD Regressor      |          0.054           |        0.061         |      295957.340     |  261359027758.152  |        511232.851       |\n",
            "|  K Neighbors Regressor  |          0.748           |        0.605         |      198276.388     |  110061310875.459  |        331754.896       |\n",
            "| Decision Tree Regressor |          0.998           |        0.809         |      77560.428      |  53243212855.356   |        230744.909       |\n",
            "| Random Forest Regressor |          0.982           |        0.883         |      87240.374      |  32437119054.722   |        180103.079       |\n",
            "+-------------------------+--------------------------+----------------------+---------------------+--------------------+-------------------------+\n",
            "\n",
            "Models' scores trained on 2nd dataset:\n",
            "+-------------------------+------------------------------------+------------------------------------+-------------------------+-------------------------------------------+-------------------------+\n",
            "|          Model          |      R2 score on training set      |        R2 score on test set        |   Mean absolute error   |             Mean squared error            | Root mean squared error |\n",
            "+-------------------------+------------------------------------+------------------------------------+-------------------------+-------------------------------------------+-------------------------+\n",
            "|    Linear Regression    |               0.525                |               0.523                |         5388.144        |                49342469.124               |         7024.419        |\n",
            "|      SGD Regressor      | -29445846753846722582095593472.000 | -29539789517494165741007536128.000 | 1331913386973544960.000 | 3058810670148489406322274226180980736.000 | 1748945588104012288.000 |\n",
            "|  K Neighbors Regressor  |               0.810                |               0.700                |         3499.663        |                31094390.337               |         5576.234        |\n",
            "| Decision Tree Regressor |               1.000                |               0.806                |         2281.483        |                20066165.210               |         4479.527        |\n",
            "| Random Forest Regressor |               0.986                |               0.899                |         1792.329        |                10425343.874               |         3228.830        |\n",
            "+-------------------------+------------------------------------+------------------------------------+-------------------------+-------------------------------------------+-------------------------+\n",
            "\n",
            "\n",
            "Compare models trained on 1st dataset with models trained on 2nd dataset:\n",
            "+------------------------------------------+----------------------+---------------------+--------------------+-------------------------+\n",
            "|                  Model                   | R2 score on test set | Mean absolute error | Mean squared error | Root mean squared error |\n",
            "+------------------------------------------+----------------------+---------------------+--------------------+-------------------------+\n",
            "| Linear regression trained on 1st dataset |        0.061         |      297255.733     |  261224410556.748  |        511101.174       |\n",
            "| Linear regression trained on 2nd dataset |        0.523         |       5388.144      |    49342469.124    |         7024.419        |\n",
            "+------------------------------------------+----------------------+---------------------+--------------------+-------------------------+\n",
            "+--------------------------------------+------------------------------------+-------------------------+-------------------------------------------+-------------------------+\n",
            "|                Model                 |        R2 score on test set        |   Mean absolute error   |             Mean squared error            | Root mean squared error |\n",
            "+--------------------------------------+------------------------------------+-------------------------+-------------------------------------------+-------------------------+\n",
            "| SGD regressor trained on 1st dataset |               0.061                |        295957.340       |              261359027758.152             |        511232.851       |\n",
            "| SGD regressor trained on 2nd dataset | -29539789517494165741007536128.000 | 1331913386973544960.000 | 3058810670148489406322274226180980736.000 | 1748945588104012288.000 |\n",
            "+--------------------------------------+------------------------------------+-------------------------+-------------------------------------------+-------------------------+\n",
            "+----------------------------+----------------------+---------------------+--------------------+-------------------------+\n",
            "|           Model            | R2 score on test set | Mean absolute error | Mean squared error | Root mean squared error |\n",
            "+----------------------------+----------------------+---------------------+--------------------+-------------------------+\n",
            "| KNR trained on 1st dataset |        0.605         |      198276.388     |  110061310875.459  |        331754.896       |\n",
            "| KNR trained on 2nd dataset |        0.700         |       3499.663      |    31094390.337    |         5576.234        |\n",
            "+----------------------------+----------------------+---------------------+--------------------+-------------------------+\n",
            "+--------------------------------------+----------------------+---------------------+--------------------+-------------------------+\n",
            "|                Model                 | R2 score on test set | Mean absolute error | Mean squared error | Root mean squared error |\n",
            "+--------------------------------------+----------------------+---------------------+--------------------+-------------------------+\n",
            "| Decision tree trained on 1st dataset |        0.809         |      77560.428      |  53243212855.356   |        230744.909       |\n",
            "| Decision tree trained on 2nd dataset |        0.806         |       2281.483      |    20066165.210    |         4479.527        |\n",
            "+--------------------------------------+----------------------+---------------------+--------------------+-------------------------+\n",
            "+--------------------------------------+----------------------+---------------------+--------------------+-------------------------+\n",
            "|                Model                 | R2 score on test set | Mean absolute error | Mean squared error | Root mean squared error |\n",
            "+--------------------------------------+----------------------+---------------------+--------------------+-------------------------+\n",
            "| Random forest trained on 1st dataset |        0.883         |      87240.374      |  32437119054.722   |        180103.079       |\n",
            "| Random forest trained on 2nd dataset |        0.899         |       1792.329      |    10425343.874    |         3228.830        |\n",
            "+--------------------------------------+----------------------+---------------------+--------------------+-------------------------+\n"
          ]
        }
      ]
    },
    {
      "cell_type": "markdown",
      "source": [
        "**Cross validation on 1st dataset**"
      ],
      "metadata": {
        "id": "OfXfMjhUnfxl"
      }
    },
    {
      "cell_type": "code",
      "source": [
        "print(crossValidation(x1, y1, svr1, lr1, sgd1, knr1, dtr1, rf1))"
      ],
      "metadata": {
        "id": "_EoSUl5p8wfO",
        "colab": {
          "base_uri": "https://localhost:8080/"
        },
        "outputId": "912e4f5f-879c-45cb-88ee-767bb4f06484"
      },
      "execution_count": null,
      "outputs": [
        {
          "output_type": "stream",
          "name": "stdout",
          "text": [
            "+-------------------------+------------------------+\n",
            "|          Model          | Cross Validation Score |\n",
            "+-------------------------+------------------------+\n",
            "|           SVR           |         -6.938         |\n",
            "|    Linear Regression    |         -3.980         |\n",
            "|      SGD Regressor      |         -3.898         |\n",
            "|  K Neighbors Regressor  |         41.907         |\n",
            "| Decision Tree Regressor |         69.704         |\n",
            "| Random Forest Regressor |         78.143         |\n",
            "+-------------------------+------------------------+\n"
          ]
        }
      ]
    },
    {
      "cell_type": "markdown",
      "source": [
        "**Hyperparameter tuning on 1st dataset**"
      ],
      "metadata": {
        "id": "zXGoJn9Inl_g"
      }
    },
    {
      "cell_type": "code",
      "source": [
        "#random forest regressor hyperparameter tuning on 1st dataset\n",
        "hpTuningRf(x1train, y1train)"
      ],
      "metadata": {
        "id": "eOa2mQS3m88z",
        "colab": {
          "base_uri": "https://localhost:8080/"
        },
        "outputId": "f549394e-f2ed-41ea-a840-6a9f7221445f"
      },
      "execution_count": null,
      "outputs": [
        {
          "output_type": "stream",
          "name": "stdout",
          "text": [
            "\n",
            "Hyper parameter tuning:\n",
            "Best parameter for Random Forest Regressor:\n",
            "\n",
            "{'bootstrap': False, 'max_features': 'log2', 'min_samples_leaf': 1, 'min_samples_split': 2}\n"
          ]
        }
      ]
    },
    {
      "cell_type": "code",
      "source": [
        "# se lo si avvia andrà in uno stato di wait senza mai terminare\n",
        "#svr random forest regressor hyperparameter tuning on 1st dataset\n",
        "# hpTunintSvm(x1train, y1train)"
      ],
      "metadata": {
        "id": "QiwtbT_tseHA"
      },
      "execution_count": null,
      "outputs": []
    },
    {
      "cell_type": "markdown",
      "source": [
        "**Evaluate models after hyperparameter tuning**"
      ],
      "metadata": {
        "id": "--fWi6K9nvX1"
      }
    },
    {
      "cell_type": "code",
      "source": [
        "HPT_svr = SVR(kernel = 'poly', gamma = 'auto', degree = 8, coef0 = 10, C = 1)\n",
        "HPT_svr.fit(x1train, y1train)\n",
        "pred_HPT_SVR_1=HPT_svr.predict(x1test)\n",
        "acc=r2_score(y1test,pred_HPT_SVR_1)\n",
        "print(\"SVR after hyperparameter tuning\")\n",
        "print('Score of Hyper Parameter Tuned SVR is:',HPT_svr.score(x1train,y1train))\n",
        "print('Accuracy for predicting price of car is', (acc*100),'%')\n",
        "print(\"Mean absolute error of Hyper Parameter Tuned SVR:\",mean_absolute_error(y1test,pred_HPT_SVR_1))\n",
        "print(\"Mean squared error of Hyper Parameter Tuned SVR:\",mean_squared_error(y1test,pred_HPT_SVR_1))\n",
        "print(\"Root Mean Square error of Hyper Parameter Tuned SVR:\",np.sqrt(mean_squared_error(y1test,pred_HPT_SVR_1)))\n",
        "\n",
        "title = [\"Before\", \"After\"]\n",
        "print(\"\\nCompare svr's hyperparameter tuning on 1st dataset:\")\n",
        "print(compareModelOnDataSet(title, y1test, y1test, predSvr1, pred_HPT_SVR_1))\n",
        "\n",
        "\n",
        "print(\"Random forest after hyperparameter tuning\")\n",
        "HPT_RF = RandomForestRegressor(bootstrap=False,min_samples_leaf=1,max_features='log2',min_samples_split=2)\n",
        "HPT_RF.fit(x1train,y1train)\n",
        "pred_HPT_RF=HPT_RF.predict(x1test)\n",
        "acc=r2_score(y1test,pred_HPT_RF)\n",
        "print('\\nScore of Hyper Parameter Tuned Random Forest Regressor is:',HPT_RF.score(x1train,y1train))\n",
        "print('Accuracy for predicting price of car is', (acc*100),'%')\n",
        "print(\"Mean absolute error of Hyper Parameter Tuned Random Forest Regressor:\",mean_absolute_error(y1test,pred_HPT_RF))\n",
        "print(\"Mean squared error of Hyper Parameter Tuned Random Forest Regressor:\",mean_squared_error(y1test,pred_HPT_RF))\n",
        "print(\"Root Mean Square error of Hyper Parameter Tuned Random Forest Regressor:\",np.sqrt(mean_squared_error(y1test,pred_HPT_RF)))\n",
        "\n",
        "print(\"\\nCompare random forest regressor's hyperparameter tuning on 1st dataset:\")\n",
        "print(compareModelOnDataSet(title, y1test, y1test, predRf1, pred_HPT_RF))"
      ],
      "metadata": {
        "id": "PVjEbgyy-pAH",
        "colab": {
          "base_uri": "https://localhost:8080/"
        },
        "outputId": "c55195cf-5173-471f-d2fa-f7db71248438"
      },
      "execution_count": null,
      "outputs": [
        {
          "output_type": "stream",
          "name": "stdout",
          "text": [
            "SVR after hyperparameter tuning\n",
            "Score of Hyper Parameter Tuned SVR is: 0.44861251350779885\n",
            "Accuracy for predicting price of car is 45.18069831268197 %\n",
            "Mean absolute error of Hyper Parameter Tuned SVR: 186698.92007008506\n",
            "Mean squared error of Hyper Parameter Tuned SVR: 152563407436.9196\n",
            "Root Mean Square error of Hyper Parameter Tuned SVR: 390593.66026206774\n",
            "\n",
            "Compare svr's hyperparameter tuning on 1st dataset:\n",
            "+--------+----------------------+---------------------+--------------------+-------------------------+\n",
            "| Model  | R2 score on test set | Mean absolute error | Mean squared error | Root mean squared error |\n",
            "+--------+----------------------+---------------------+--------------------+-------------------------+\n",
            "| Before |        -0.068        |      271198.432     |  297284446193.987  |        545237.972       |\n",
            "| After  |        0.452         |      186698.920     |  152563407436.920  |        390593.660       |\n",
            "+--------+----------------------+---------------------+--------------------+-------------------------+\n",
            "Random forest after hyperparameter tuning\n",
            "\n",
            "Score of Hyper Parameter Tuned Random Forest Regressor is: 0.9979397374843745\n",
            "Accuracy for predicting price of car is 88.43380679578046 %\n",
            "Mean absolute error of Hyper Parameter Tuned Random Forest Regressor: 62006.76436523652\n",
            "Mean squared error of Hyper Parameter Tuned Random Forest Regressor: 32188988038.81877\n",
            "Root Mean Square error of Hyper Parameter Tuned Random Forest Regressor: 179412.89819524897\n",
            "\n",
            "Compare random forest regressor's hyperparameter tuning on 1st dataset:\n",
            "+--------+----------------------+---------------------+--------------------+-------------------------+\n",
            "| Model  | R2 score on test set | Mean absolute error | Mean squared error | Root mean squared error |\n",
            "+--------+----------------------+---------------------+--------------------+-------------------------+\n",
            "| Before |        0.883         |      87240.374      |  32437119054.722   |        180103.079       |\n",
            "| After  |        0.884         |      62006.764      |  32188988038.819   |        179412.898       |\n",
            "+--------+----------------------+---------------------+--------------------+-------------------------+\n"
          ]
        }
      ]
    }
  ],
  "metadata": {
    "accelerator": "GPU",
    "colab": {
      "provenance": [],
      "collapsed_sections": [
        "YQQOwFgwTABd",
        "Pa63AFNcvAio",
        "fkyqah0gMUW4",
        "Yp9ETNfWTGn1",
        "cfeWtmVPCgI8",
        "HKkhap6lh2DF",
        "MouVADnOjurB"
      ],
      "include_colab_link": true
    },
    "gpuClass": "standard",
    "kernelspec": {
      "display_name": "Python 3",
      "name": "python3"
    },
    "language_info": {
      "name": "python"
    }
  },
  "nbformat": 4,
  "nbformat_minor": 0
}